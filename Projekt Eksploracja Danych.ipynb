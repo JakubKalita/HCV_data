{
 "cells": [
  {
   "cell_type": "markdown",
   "id": "f85b1df0",
   "metadata": {
    "vscode": {
     "languageId": "html"
    }
   },
   "source": [
    "<style>\n",
    "{\n",
    "  margin: 0;\n",
    "  padding: 0;\n",
    "  box-sizing: border-box;}\n",
    " \n",
    "  body {\n",
    "  margin-left: -24px;\n",
    "  margin-top: 0;\n",
    "  font-family: \"Arial\", sans-serif;\n",
    "  width: 100%;\n",
    "  height: 100vh;\n",
    "  display: flex;\n",
    "  flex-direction: column;\n",
    "  justify-content: space-between;\n",
    "  box-sizing: border-box;\n",
    "}\n",
    "  .title {\n",
    "    text-align: center;\n",
    "    font-size: 36px; \n",
    "    font-weight: bold;\n",
    "    align-items: center;\n",
    "    margin-top: 50px; \n",
    "  }\n",
    "  .subtitle {\n",
    "    text-align: center;\n",
    "    font-size: 28px; \n",
    "    font-weight: bold;\n",
    "    align-items: center;\n",
    "    margin-bottom: 30px;\n",
    "  }\n",
    "  .logo {\n",
    "    text-align: center;\n",
    "    margin: 50px 0; \n",
    "    align-items: center;\n",
    "  }\n",
    "  .project-title {\n",
    "    text-align: center;\n",
    "    font-size: 28px; \n",
    "    font-weight: bold;\n",
    "    align-items: center;\n",
    "    margin: 40px 0; \n",
    "  }\n",
    "  .authors {\n",
    "    font-size: 20px; \n",
    "    text-align: center;\n",
    "    margin-bottom: 50px;\n",
    "    align-items: center;\n",
    "  }\n",
    "</style>\n",
    " \n",
    "<div class=\"title\">POLITECHNIKA LUBELSKA</div>\n",
    "<div class=\"subtitle\">WYDZIAŁ MATEMATYKI I INFORMATYKI TECHNICZNEJ</div>\n",
    "<div class=\"subtitle\">Kierunek: Inżynieria i Analiza Danych</div>\n",
    " \n",
    "<div class=\"logo\">\n",
    "<img src=\"logopl.png\" alt=\"Logo Politechniki Lubelskiej\" width=\"300\"> <!-- Większe logo -->\n",
    "</div>\n",
    " \n",
    "<div class=\"project-title\">Projekt Zaliczeniowy <br> Eksploracja danych</div>\n",
    "<div class=\"subtitle\"><em>Praca wykonana przez:</em></div>\n",
    "<div class=\"authors\">\n",
    "<strong>Szymon Sergiel, Nr albumu: 101010</strong> <br>\n",
    "<strong>Jakub Kalita, Nr albumu: 100976</strong> <br>\n",
    "\n",
    "</div>"
   ]
  },
  {
   "cell_type": "code",
   "execution_count": 1,
   "id": "71e355a1",
   "metadata": {},
   "outputs": [],
   "source": [
    "import pandas as pd\n",
    "import numpy as np\n",
    "import matplotlib.pyplot as plt\n",
    "import seaborn as sns\n",
    "import sklearn.metrics as metrics\n",
    "from imblearn.over_sampling import RandomOverSampler, SMOTE, ADASYN\n",
    "from imblearn.under_sampling import RandomUnderSampler\n",
    "from sklearn.base import clone\n",
    "from sklearn.impute import KNNImputer\n",
    "from sklearn.pipeline import Pipeline\n",
    "from sklearn.compose import ColumnTransformer\n",
    "from sklearn.preprocessing import StandardScaler\n",
    "from sklearn.ensemble import RandomForestClassifier\n",
    "from sklearn.linear_model import LogisticRegression\n",
    "from sklearn.model_selection import train_test_split, cross_val_score, StratifiedKFold, RandomizedSearchCV\n",
    "from sklearn.feature_selection import mutual_info_classif\n",
    "from mlxtend.frequent_patterns import apriori, association_rules\n",
    "from sklearn.metrics import precision_score, recall_score, f1_score, roc_auc_score, confusion_matrix, accuracy_score, ConfusionMatrixDisplay, make_scorer\n",
    "from sklearn.neighbors import KNeighborsClassifier\n",
    "import xgboost as xgb\n",
    "from sklearn.utils.class_weight import compute_sample_weight"
   ]
  },
  {
   "cell_type": "code",
   "execution_count": 2,
   "id": "f4e7fb38",
   "metadata": {},
   "outputs": [
    {
     "data": {
      "text/html": [
       "<div>\n",
       "<style scoped>\n",
       "    .dataframe tbody tr th:only-of-type {\n",
       "        vertical-align: middle;\n",
       "    }\n",
       "\n",
       "    .dataframe tbody tr th {\n",
       "        vertical-align: top;\n",
       "    }\n",
       "\n",
       "    .dataframe thead th {\n",
       "        text-align: right;\n",
       "    }\n",
       "</style>\n",
       "<table border=\"1\" class=\"dataframe\">\n",
       "  <thead>\n",
       "    <tr style=\"text-align: right;\">\n",
       "      <th></th>\n",
       "      <th>Category</th>\n",
       "      <th>Age</th>\n",
       "      <th>Sex</th>\n",
       "      <th>ALB</th>\n",
       "      <th>ALP</th>\n",
       "      <th>ALT</th>\n",
       "      <th>AST</th>\n",
       "      <th>BIL</th>\n",
       "      <th>CHE</th>\n",
       "      <th>CHOL</th>\n",
       "      <th>CREA</th>\n",
       "      <th>GGT</th>\n",
       "      <th>PROT</th>\n",
       "    </tr>\n",
       "  </thead>\n",
       "  <tbody>\n",
       "    <tr>\n",
       "      <th>0</th>\n",
       "      <td>0=Blood Donor</td>\n",
       "      <td>32</td>\n",
       "      <td>m</td>\n",
       "      <td>38.5</td>\n",
       "      <td>52.5</td>\n",
       "      <td>7.7</td>\n",
       "      <td>22.1</td>\n",
       "      <td>7.5</td>\n",
       "      <td>6.93</td>\n",
       "      <td>3.23</td>\n",
       "      <td>106.0</td>\n",
       "      <td>12.1</td>\n",
       "      <td>69.0</td>\n",
       "    </tr>\n",
       "    <tr>\n",
       "      <th>1</th>\n",
       "      <td>0=Blood Donor</td>\n",
       "      <td>32</td>\n",
       "      <td>m</td>\n",
       "      <td>38.5</td>\n",
       "      <td>70.3</td>\n",
       "      <td>18.0</td>\n",
       "      <td>24.7</td>\n",
       "      <td>3.9</td>\n",
       "      <td>11.17</td>\n",
       "      <td>4.80</td>\n",
       "      <td>74.0</td>\n",
       "      <td>15.6</td>\n",
       "      <td>76.5</td>\n",
       "    </tr>\n",
       "    <tr>\n",
       "      <th>2</th>\n",
       "      <td>0=Blood Donor</td>\n",
       "      <td>32</td>\n",
       "      <td>m</td>\n",
       "      <td>46.9</td>\n",
       "      <td>74.7</td>\n",
       "      <td>36.2</td>\n",
       "      <td>52.6</td>\n",
       "      <td>6.1</td>\n",
       "      <td>8.84</td>\n",
       "      <td>5.20</td>\n",
       "      <td>86.0</td>\n",
       "      <td>33.2</td>\n",
       "      <td>79.3</td>\n",
       "    </tr>\n",
       "    <tr>\n",
       "      <th>3</th>\n",
       "      <td>0=Blood Donor</td>\n",
       "      <td>32</td>\n",
       "      <td>m</td>\n",
       "      <td>43.2</td>\n",
       "      <td>52.0</td>\n",
       "      <td>30.6</td>\n",
       "      <td>22.6</td>\n",
       "      <td>18.9</td>\n",
       "      <td>7.33</td>\n",
       "      <td>4.74</td>\n",
       "      <td>80.0</td>\n",
       "      <td>33.8</td>\n",
       "      <td>75.7</td>\n",
       "    </tr>\n",
       "    <tr>\n",
       "      <th>4</th>\n",
       "      <td>0=Blood Donor</td>\n",
       "      <td>32</td>\n",
       "      <td>m</td>\n",
       "      <td>39.2</td>\n",
       "      <td>74.1</td>\n",
       "      <td>32.6</td>\n",
       "      <td>24.8</td>\n",
       "      <td>9.6</td>\n",
       "      <td>9.15</td>\n",
       "      <td>4.32</td>\n",
       "      <td>76.0</td>\n",
       "      <td>29.9</td>\n",
       "      <td>68.7</td>\n",
       "    </tr>\n",
       "  </tbody>\n",
       "</table>\n",
       "</div>"
      ],
      "text/plain": [
       "        Category  Age Sex   ALB   ALP   ALT   AST   BIL    CHE  CHOL   CREA  \\\n",
       "0  0=Blood Donor   32   m  38.5  52.5   7.7  22.1   7.5   6.93  3.23  106.0   \n",
       "1  0=Blood Donor   32   m  38.5  70.3  18.0  24.7   3.9  11.17  4.80   74.0   \n",
       "2  0=Blood Donor   32   m  46.9  74.7  36.2  52.6   6.1   8.84  5.20   86.0   \n",
       "3  0=Blood Donor   32   m  43.2  52.0  30.6  22.6  18.9   7.33  4.74   80.0   \n",
       "4  0=Blood Donor   32   m  39.2  74.1  32.6  24.8   9.6   9.15  4.32   76.0   \n",
       "\n",
       "    GGT  PROT  \n",
       "0  12.1  69.0  \n",
       "1  15.6  76.5  \n",
       "2  33.2  79.3  \n",
       "3  33.8  75.7  \n",
       "4  29.9  68.7  "
      ]
     },
     "execution_count": 2,
     "metadata": {},
     "output_type": "execute_result"
    }
   ],
   "source": [
    "df = pd.read_csv('hcvdat0.csv', sep = ',')\n",
    "df.rename(columns = {'Unnamed: 0': 'ID'}, inplace = True)\n",
    "df.drop(columns = ['ID'], inplace = True)\n",
    "df.head()"
   ]
  },
  {
   "cell_type": "markdown",
   "id": "af971eec",
   "metadata": {},
   "source": [
    "## Zdefiniowanie problemu predykcyjnego oraz scharakteryzowanie analizowanego zbioru danych\n",
    "\n",
    "### Cel analizy\n",
    "\n",
    "Celem projektu jest zbudowanie modelu predykcyjnego, który na podstawie danych demograficznych oraz wyników badań laboratoryjnych będzie klasyfikował stan zdrowia pacjentów w kontekście chorób wątroby. Kluczowym zadaniem jest przypisanie pacjenta do jednej z pięciu klas:\n",
    "\n",
    "**0: Blood Donor (osoba zdrowa, oddająca krew)**\n",
    "\n",
    "**1: Suspect Blood Donor (podejrzenie nieprawidłowości u dawcy)**\n",
    "\n",
    "**2: Hepatitis (wirusowe zapalenie wątroby)**\n",
    "\n",
    "**3: Fibrosis (włóknienie wątroby)**\n",
    "\n",
    "**4: Cirrhosis (marskość wątroby)**\n",
    "\n",
    "Problem ma charakter wieloklasowej klasyfikacji.\n",
    "\n",
    "### Charakterystyka zbioru danych\n",
    "\n",
    "Zbiór danych składa się z następujących zmiennych:\n",
    "\n",
    "**Category - Klasa docelowa (stan zdrowia pacjenta)**\n",
    "\n",
    "**Age - Wiek pacjenta**\n",
    "\n",
    "**Sex - Płeć pacjenta**\n",
    "\n",
    "**ALB - Poziom albuminy**\n",
    "\n",
    "**ALP - Poziom fosfatazy alkalicznej**\n",
    "\n",
    "**ALT - Poziom aminotransferazy alaninowej**\n",
    "\n",
    "**AST - Poziom aminotransferazy asparaginianowej**\n",
    "\n",
    "**BIL - Poziom bilirubiny**\n",
    "\n",
    "**CHE - Poziom cholinesterazy**\n",
    "\n",
    "**CHOL - Poziom cholesterolu**\n",
    "\n",
    "**CREA - Poziom kreatyniny**\n",
    "\n",
    "**GGT - Poziom gamma-glutamylotransferazy**\n",
    "\n",
    "**PROT - Poziom białka całkowitego**\n",
    "\n",
    "Niektóre zmienne są tekstowe (Category, Sex), większość zmiennych jest numerycznych (ciągłych).\n",
    "\n",
    "### Znaczenie problemu\n",
    "\n",
    "Prawidłowa klasyfikacja stanu zdrowia pacjenta na podstawie badań laboratoryjnych może stanowić istotne wsparcie dla lekarzy w procesie diagnostycznym, umożliwiając wczesne wykrycie poważnych chorób wątroby i wdrożenie odpowiedniego leczenia."
   ]
  },
  {
   "cell_type": "markdown",
   "id": "4ba29aa1",
   "metadata": {},
   "source": [
    "## Czyszczenie danych"
   ]
  },
  {
   "cell_type": "markdown",
   "id": "39639662",
   "metadata": {},
   "source": [
    "### Zamiana etykiet w zmiennej Category na wartości liczbowe"
   ]
  },
  {
   "cell_type": "code",
   "execution_count": 3,
   "id": "01791c56",
   "metadata": {},
   "outputs": [],
   "source": [
    "df['Category'] = df['Category'].str.extract(r'^(\\d+s?|\\d+)')"
   ]
  },
  {
   "cell_type": "code",
   "execution_count": 4,
   "id": "9913bd6c",
   "metadata": {},
   "outputs": [],
   "source": [
    "label_map = {\n",
    "    '0': 0,\n",
    "    '0s': 1,\n",
    "    '1': 2,\n",
    "    '2': 3,\n",
    "    '3': 4\n",
    "}\n",
    "\n",
    "df['Category'] = df['Category'].map(label_map)"
   ]
  },
  {
   "cell_type": "markdown",
   "id": "d25e04a6",
   "metadata": {},
   "source": [
    "### Zamiana płci na wartości binarne"
   ]
  },
  {
   "cell_type": "code",
   "execution_count": 5,
   "id": "d0183ca5",
   "metadata": {},
   "outputs": [],
   "source": [
    "df['Sex'] = df['Sex'].map({'m': 1, 'f': 0})"
   ]
  },
  {
   "cell_type": "code",
   "execution_count": 6,
   "id": "504353d1",
   "metadata": {},
   "outputs": [
    {
     "data": {
      "text/plain": [
       "Category      int64\n",
       "Age           int64\n",
       "Sex           int64\n",
       "ALB         float64\n",
       "ALP         float64\n",
       "ALT         float64\n",
       "AST         float64\n",
       "BIL         float64\n",
       "CHE         float64\n",
       "CHOL        float64\n",
       "CREA        float64\n",
       "GGT         float64\n",
       "PROT        float64\n",
       "dtype: object"
      ]
     },
     "execution_count": 6,
     "metadata": {},
     "output_type": "execute_result"
    }
   ],
   "source": [
    "df.dtypes"
   ]
  },
  {
   "cell_type": "markdown",
   "id": "3739aa3c",
   "metadata": {},
   "source": [
    "Zakodowano zmienną celu Category oraz zmienną Sex na format numeryczny (m = 1, f = 0), aby dostosować dane do algorytmów uczenia maszynowego."
   ]
  },
  {
   "cell_type": "markdown",
   "id": "19cb96be",
   "metadata": {},
   "source": [
    "### Usuwanie braków danych"
   ]
  },
  {
   "cell_type": "code",
   "execution_count": 7,
   "id": "9677c65b",
   "metadata": {},
   "outputs": [
    {
     "data": {
      "text/plain": [
       "(615, 13)"
      ]
     },
     "execution_count": 7,
     "metadata": {},
     "output_type": "execute_result"
    }
   ],
   "source": [
    "df.shape"
   ]
  },
  {
   "cell_type": "code",
   "execution_count": 8,
   "id": "cacd7f06",
   "metadata": {},
   "outputs": [
    {
     "data": {
      "text/plain": [
       "Category\n",
       "0    533\n",
       "1      7\n",
       "2     24\n",
       "3     21\n",
       "4     30\n",
       "Name: Category, dtype: int64"
      ]
     },
     "execution_count": 8,
     "metadata": {},
     "output_type": "execute_result"
    }
   ],
   "source": [
    "df.groupby('Category', observed = True)['Category'].count()"
   ]
  },
  {
   "cell_type": "code",
   "execution_count": 9,
   "id": "70a8dec7",
   "metadata": {},
   "outputs": [
    {
     "name": "stdout",
     "output_type": "stream",
     "text": [
      "Category    0.000000\n",
      "Age         0.000000\n",
      "Sex         0.000000\n",
      "ALB         0.162602\n",
      "ALP         2.926829\n",
      "ALT         0.162602\n",
      "AST         0.000000\n",
      "BIL         0.000000\n",
      "CHE         0.000000\n",
      "CHOL        1.626016\n",
      "CREA        0.000000\n",
      "GGT         0.000000\n",
      "PROT        0.162602\n",
      "dtype: float64\n"
     ]
    }
   ],
   "source": [
    "Missing_values_percent = 100*(df.isnull().sum()/len(df['Category']))\n",
    "print(Missing_values_percent)"
   ]
  },
  {
   "cell_type": "code",
   "execution_count": 10,
   "id": "21389261",
   "metadata": {},
   "outputs": [],
   "source": [
    "df_drop = df.dropna()"
   ]
  },
  {
   "cell_type": "code",
   "execution_count": 11,
   "id": "013ffc63",
   "metadata": {},
   "outputs": [
    {
     "data": {
      "text/plain": [
       "Category\n",
       "0    526\n",
       "1      7\n",
       "2     20\n",
       "3     12\n",
       "4     24\n",
       "Name: Category, dtype: int64"
      ]
     },
     "execution_count": 11,
     "metadata": {},
     "output_type": "execute_result"
    }
   ],
   "source": [
    "df_drop.groupby('Category', observed = True)['Category'].count()"
   ]
  },
  {
   "cell_type": "markdown",
   "id": "f7eda259",
   "metadata": {},
   "source": [
    "Usunięcie braków danych spowodowało znaczny spadek liczby obserwacji dla mało liczebnych klas 2, 3 oraz 4. Z tego powodu na naszym zbiorze należy wykonać imputację (ten krok należy poprzedzić podziałem zbioru na zbiór treningowy, testowy i walidacyjny)."
   ]
  },
  {
   "cell_type": "code",
   "execution_count": 12,
   "id": "2813c74f",
   "metadata": {},
   "outputs": [],
   "source": [
    "df = df.reset_index(drop=True)\n",
    "\n",
    "X = df.drop(columns = ['Category'])\n",
    "y = df['Category']\n",
    "\n",
    "X_train, X_not_train, y_train, y_not_train = train_test_split(X, y, test_size = 0.3, random_state = 19, stratify = y)\n",
    "X_test, X_val, y_test, y_val = train_test_split(X_not_train, y_not_train, test_size = 0.5, random_state = 19, stratify = y_not_train)"
   ]
  },
  {
   "cell_type": "code",
   "execution_count": 13,
   "id": "06f00e2f",
   "metadata": {},
   "outputs": [
    {
     "data": {
      "text/plain": [
       "((430, 12), (92, 12), (93, 12))"
      ]
     },
     "execution_count": 13,
     "metadata": {},
     "output_type": "execute_result"
    }
   ],
   "source": [
    "X_train.shape, X_test.shape, X_val.shape"
   ]
  },
  {
   "cell_type": "markdown",
   "id": "ff2eb0b3",
   "metadata": {},
   "source": [
    "Nastąpił podział na zbiory:\n",
    "- Treningowy: 430 obserwacji\n",
    "- Testowy: 92 obserwacje\n",
    "- Walidacyjny: 93 obserwacje"
   ]
  },
  {
   "cell_type": "code",
   "execution_count": 14,
   "id": "01824358",
   "metadata": {},
   "outputs": [],
   "source": [
    "num_cols = X_train.select_dtypes(include = 'number').columns\n",
    "cat_cols = X_train.select_dtypes(exclude = 'number').columns\n",
    "\n",
    "numeric_pipe = Pipeline([\n",
    "    ('impute', KNNImputer(n_neighbors = 5,\n",
    "                          weights = 'distance',\n",
    "                          metric = 'nan_euclidean'))\n",
    "])\n",
    "\n",
    "preprocess = ColumnTransformer([\n",
    "    ('num', numeric_pipe, num_cols),\n",
    "    ('cat', 'passthrough', cat_cols)\n",
    "], remainder = 'drop', verbose_feature_names_out = False)\n",
    "\n",
    "X_train_clean = pd.DataFrame(\n",
    "    preprocess.fit_transform(X_train),\n",
    "    index = X_train.index,\n",
    "    columns = preprocess.get_feature_names_out()\n",
    ")\n",
    "\n",
    "X_test_clean = pd.DataFrame(\n",
    "    preprocess.transform(X_test),\n",
    "    index = X_test.index,\n",
    "    columns = preprocess.get_feature_names_out()\n",
    ")\n",
    "\n",
    "X_val_clean = pd.DataFrame(\n",
    "    preprocess.transform(X_val),\n",
    "    index = X_val.index,\n",
    "    columns = preprocess.get_feature_names_out()\n",
    ")"
   ]
  },
  {
   "cell_type": "code",
   "execution_count": 15,
   "id": "9534b790",
   "metadata": {},
   "outputs": [
    {
     "name": "stdout",
     "output_type": "stream",
     "text": [
      "Age     0.0\n",
      "Sex     0.0\n",
      "ALB     0.0\n",
      "ALP     0.0\n",
      "ALT     0.0\n",
      "AST     0.0\n",
      "BIL     0.0\n",
      "CHE     0.0\n",
      "CHOL    0.0\n",
      "CREA    0.0\n",
      "GGT     0.0\n",
      "PROT    0.0\n",
      "dtype: float64\n"
     ]
    }
   ],
   "source": [
    "Missing_values_percent = 100*(X_train_clean.isnull().sum()/len(df[\"Category\"]))\n",
    "print(Missing_values_percent)"
   ]
  },
  {
   "cell_type": "markdown",
   "id": "9372eb27",
   "metadata": {},
   "source": [
    "W celu uzupełnienia brakujących wartości w zbiorze danych zastosowano metodę imputacji przy użyciu algorytmu K-Nearest Neighbors (KNNImputer). Metoda ta polega na szacowaniu brakujących wartości na podstawie wartości obserwacji najbardziej podobnych (najbliższych) w przestrzeni cech. Wykorzystanie KNN pozwala na uwzględnienie wielowymiarowej struktury danych oraz relacji pomiędzy poszczególnymi zmiennymi."
   ]
  },
  {
   "cell_type": "code",
   "execution_count": 16,
   "id": "f26f518c",
   "metadata": {},
   "outputs": [],
   "source": [
    "df['Category'] = df['Category'].astype('int')\n",
    "df['Sex'] = df['Sex'].astype('int')\n",
    "df['Age'] = df['Age'].astype('int')\n",
    "\n",
    "df['Category'] = df['Category'].astype('category')\n",
    "df['Sex'] = df['Sex'].astype('category')"
   ]
  },
  {
   "cell_type": "code",
   "execution_count": 17,
   "id": "46caccd4",
   "metadata": {},
   "outputs": [
    {
     "data": {
      "text/plain": [
       "Category    category\n",
       "Age            int64\n",
       "Sex         category\n",
       "ALB          float64\n",
       "ALP          float64\n",
       "ALT          float64\n",
       "AST          float64\n",
       "BIL          float64\n",
       "CHE          float64\n",
       "CHOL         float64\n",
       "CREA         float64\n",
       "GGT          float64\n",
       "PROT         float64\n",
       "dtype: object"
      ]
     },
     "execution_count": 17,
     "metadata": {},
     "output_type": "execute_result"
    }
   ],
   "source": [
    "df.dtypes"
   ]
  },
  {
   "cell_type": "markdown",
   "id": "206f5d52",
   "metadata": {},
   "source": [
    "W trakcie procesu imputacji przy użyciu algorytmu K-Nearest Neighbors wszystkie zmienne numeryczne zostały automatycznie przekształcone na typ zmiennoprzecinkowy (float), co wynika ze specyfiki działania algorytmu opartego na wyliczaniu odległości między obserwacjami. Po przeprowadzonej imputacji zmieniliśmy typy tych zmiennych, gdzie nastąpiło to przekształcenie (Age na zmienną numeryczną, Category i Sex na zmienną numeryczną kategoryczną)."
   ]
  },
  {
   "cell_type": "markdown",
   "id": "9bab1193",
   "metadata": {},
   "source": [
    "## Wstępna selekcja cech"
   ]
  },
  {
   "cell_type": "code",
   "execution_count": 18,
   "id": "99aa87f8",
   "metadata": {},
   "outputs": [
    {
     "data": {
      "text/plain": [
       "AST     0.216129\n",
       "CHE     0.118712\n",
       "BIL     0.109705\n",
       "GGT     0.106853\n",
       "PROT    0.098082\n",
       "ALB     0.095360\n",
       "ALT     0.089941\n",
       "CHOL    0.088092\n",
       "CREA    0.079314\n",
       "ALP     0.075951\n",
       "Sex     0.042790\n",
       "Age     0.015736\n",
       "dtype: float64"
      ]
     },
     "execution_count": 18,
     "metadata": {},
     "output_type": "execute_result"
    }
   ],
   "source": [
    "mi = mutual_info_classif(X_train_clean, y_train, discrete_features = 'auto',random_state=19)\n",
    "mi = pd.Series(mi, index = X_train_clean.columns).sort_values(ascending = False)\n",
    "mi"
   ]
  },
  {
   "cell_type": "code",
   "execution_count": 19,
   "id": "9407c7d3",
   "metadata": {},
   "outputs": [
    {
     "data": {
      "image/png": "[encoded data removed]",
      "text/plain": [
       "<Figure size 1000x600 with 1 Axes>"
      ]
     },
     "metadata": {},
     "output_type": "display_data"
    }
   ],
   "source": [
    "plt.figure(figsize = (10,6))\n",
    "plt.plot(range(1, len(mi) + 1), mi, marker = 'o')\n",
    "plt.axhline(y = 0.1, color = 'r', linestyle = 'dashed')\n",
    "plt.xlabel('Liczba wybranych cech')\n",
    "plt.ylabel('Mutual Information')\n",
    "plt.title('Wykres łokciowy Mutual Information')\n",
    "plt.grid(True)"
   ]
  },
  {
   "cell_type": "markdown",
   "id": "ca94a915",
   "metadata": {},
   "source": [
    "Na podstawie metryki Mutual Information oraz wykresu łokciowego do dalszej analizy wybieramy 4 zmienne przekraczające ustalony próg MI równy 0.1 - AST, CHE, GGT  oraz BIL ."
   ]
  },
  {
   "cell_type": "code",
   "execution_count": 20,
   "id": "99f074ed",
   "metadata": {},
   "outputs": [],
   "source": [
    "X_train = X_train_clean.drop(columns = ['CHOL','PROT', 'Age', 'Sex', 'ALB', 'ALP', 'ALT', 'CREA'])\n",
    "X_test = X_test_clean.drop(columns = ['CHOL','PROT', 'Age', 'Sex', 'ALB', 'ALP', 'ALT', 'CREA'])\n",
    "X_val = X_val_clean.drop(columns = ['CHOL','PROT',  'Age', 'Sex', 'ALB', 'ALP', 'ALT', 'CREA'])"
   ]
  },
  {
   "cell_type": "code",
   "execution_count": 21,
   "id": "92da4fa2",
   "metadata": {},
   "outputs": [
    {
     "data": {
      "image/png": "[encoded data removed]",
      "text/plain": [
       "<Figure size 1000x700 with 2 Axes>"
      ]
     },
     "metadata": {},
     "output_type": "display_data"
    }
   ],
   "source": [
    "appended = pd.concat([X_train, y_train], axis = 1)\n",
    "\n",
    "plt.figure(figsize = (10, 7))\n",
    "sns.heatmap(appended.corr(), annot = True, vmin = -1, cmap = \"coolwarm\")\n",
    "plt.show()"
   ]
  },
  {
   "cell_type": "markdown",
   "id": "6d559135",
   "metadata": {},
   "source": [
    "Na podstawie heatmapy korelacji nie usuwamy żadnej ze zmiennych."
   ]
  },
  {
   "cell_type": "code",
   "execution_count": 22,
   "id": "6c5af83b",
   "metadata": {},
   "outputs": [
    {
     "data": {
      "image/png": "[encoded data removed]",
      "text/plain": [
       "<Figure size 640x480 with 1 Axes>"
      ]
     },
     "metadata": {},
     "output_type": "display_data"
    }
   ],
   "source": [
    "colors = ['blue', 'red', 'green', 'orange', 'purple']\n",
    "\n",
    "sns.countplot(x = 'Category', data = appended, palette = colors, hue = 'Category', legend = False)\n",
    "plt.show()"
   ]
  },
  {
   "cell_type": "markdown",
   "id": "a325683d",
   "metadata": {},
   "source": [
    "Nasze dane są bardzo niezbalansowane, dlatego w dalszej części projektu zajmiemy się m.in. balansowaniem klas metodami oversamplingu. W naszym przypadku undersampling byłby nierozsądny, gdyż nie chcemy jeszcze bardziej zmniejszać ilości danych, na których możemy pracować."
   ]
  },
  {
   "cell_type": "code",
   "execution_count": 23,
   "id": "713efacc",
   "metadata": {},
   "outputs": [
    {
     "data": {
      "image/png": "[encoded data removed]",
      "text/plain": [
       "<Figure size 1600x1200 with 4 Axes>"
      ]
     },
     "metadata": {},
     "output_type": "display_data"
    }
   ],
   "source": [
    "f, axes = plt.subplots(ncols = 2, nrows = 2, figsize = (16, 12))\n",
    "\n",
    "sns.boxplot(x = 'Category', y = 'AST', data = appended, palette = colors, hue = 'Category', ax = axes[0, 0])\n",
    "axes[0, 0].set_title('AST vs Category - Korelacja')\n",
    "\n",
    "sns.boxplot(x = 'Category', y = 'BIL', data = appended, palette = colors, hue = 'Category', ax = axes[0, 1])\n",
    "axes[0, 1].set_title('BIL vs Category - Korelacja')\n",
    "\n",
    "sns.boxplot(x = 'Category', y = 'CHE', data = appended, palette = colors, hue = 'Category', ax = axes[1, 0])\n",
    "axes[1, 0].set_title('CHE vs Category - Korelacja')\n",
    "\n",
    "sns.boxplot(x = 'Category', y = 'GGT', data = appended, palette = colors, hue = 'Category', ax = axes[1, 1])\n",
    "axes[1, 1].set_title('GGT vs Category - Korelacja')\n",
    "\n",
    "plt.show()"
   ]
  },
  {
   "cell_type": "markdown",
   "id": "9e6f2571",
   "metadata": {},
   "source": [
    "##### **AST (Aminotransferaza asparaginianowa) vs Category**\n",
    "- Wzrost poziomu AST wraz z pogarszaniem się stanu wątroby.\n",
    "- Najwyższe wartości w kategorii marskości (4), co jest zgodne z uszkodzeniem komórek wątrobowych.\n",
    "\n",
    "##### **BIL (Bilirubina) vs Category**\n",
    "- Wzrost bilirubiny koreluje z zaawansowaniem choroby.\n",
    "- Najwyższe poziomy występują przy marskości (4), co odzwierciedla zaburzenia metabolizmu bilirubiny.\n",
    "\n",
    "##### **CHE (Cholinesteraza) vs Category**\n",
    "- Najwyższe poziomy u zdrowych dawców (0), podobne u pacjentów z WZW C.\n",
    "- Niskie wartości u dawców z podejrzeniem nieprawidłowości (1), co może wskazywać na pewne niezidentyfikowane problemy.\n",
    "- Znaczący spadek przy marskości (4), co wskazuje na spadek zdolności syntetycznej wątroby.\n",
    "\n",
    "##### **GGT (Gamma-glutamylotransferaza) vs Category**\n",
    "- Wysokie wartości dla grupy dawców z podejrzeniem nieprawidłowości (1), co może wskazywać na pewne niezidentyfikowane problemy.\n",
    "- Wartości GGT rosną w grupach chorych (szczególnie kategorie 2, 3, 4).\n",
    "- Najwyższe poziomy przy marskości – zgodne z cholestazą i uszkodzeniem komórek dróg żółciowych."
   ]
  },
  {
   "cell_type": "code",
   "execution_count": 24,
   "id": "75afe171",
   "metadata": {},
   "outputs": [
    {
     "data": {
      "image/png": "[encoded data removed]",
      "text/plain": [
       "<Figure size 1400x1000 with 4 Axes>"
      ]
     },
     "metadata": {},
     "output_type": "display_data"
    }
   ],
   "source": [
    "variables = ['AST', 'BIL', 'CHE', 'GGT']\n",
    "\n",
    "# Tworzymy subplots 2x2\n",
    "fig, axs = plt.subplots(2, 2, figsize=(14, 10))\n",
    "axs = axs.flatten()\n",
    "\n",
    "# Iterujemy po zmiennych i osiach\n",
    "for i, var in enumerate(variables):\n",
    "    sns.histplot(data=appended, x=var, hue='Category', multiple='stack', palette='Set2', bins=20, ax=axs[i])\n",
    "    axs[i].set_title(f'Histogram zmiennej {var}')\n",
    "    axs[i].set_xlabel(var)\n",
    "    axs[i].set_ylabel('Liczba obserwacji')\n",
    "\n",
    "plt.tight_layout()\n",
    "plt.show()"
   ]
  },
  {
   "cell_type": "markdown",
   "id": "83d60a4f",
   "metadata": {},
   "source": [
    "#### **HIstogram zmiennej AST**\n",
    "\n",
    "- Większość obserwacji skupia się przy bardzo niskich wartościach (0-50).\n",
    "\n",
    "- Klasa zdrowych dawców (0) dominuje przy niskich wartościach.\n",
    "\n",
    "- Występują nieliczne przypadki z podwyższonym AST (powyżej 50), które częściej należą do pacjentów z problemami wątrobowymi (klasy 1-4).\n",
    "\n",
    "#### **Histogram zmiennej BIL**\n",
    "\n",
    "- Podobny schemat jak dla AST: większość wartości jest niska (0-20).\n",
    "\n",
    "- Klasa 0 (Blood Donor) koncentruje się przy bardzo niskich wartościach.\n",
    "\n",
    "- Podwyższone wartości (20-50 i więcej) pojawiają się głównie u pacjentów z chorobami wątroby.\n",
    "\n",
    "#### **Histogram zmiennej CHE**\n",
    "- Rozkład jest bardziej symetryczny w porównaniu do AST i BIL.\n",
    "\n",
    "- Najwięcej obserwacji dla klasy 0 występuje w przedziale 7-10.\n",
    "\n",
    "- Niższe wartości CHE (poniżej 6) częściej obserwowane są u chorych pacjentów (klasy 1-4), co może wskazywać na związek z uszkodzeniem wątroby.\n",
    "\n",
    "#### **Histogram zmiennej GGT**\n",
    "\n",
    "- Silnie skośny rozkład: najwięcej wartości w przedziale 0-50.\n",
    "\n",
    "- Klasa 0 dominuje przy niskich wartościach GGT.\n",
    "\n",
    "- Wyższe wartości (powyżej 100) częściej należą do pacjentów z problemami wątrobowymi — klasy 1-4 są tu wyraźniej reprezentowane."
   ]
  },
  {
   "cell_type": "markdown",
   "id": "09c28d78",
   "metadata": {},
   "source": [
    "## Balansowanie klas w zbiorze treningowym"
   ]
  },
  {
   "cell_type": "code",
   "execution_count": 25,
   "id": "0146770a",
   "metadata": {},
   "outputs": [
    {
     "name": "stdout",
     "output_type": "stream",
     "text": [
      "Oryginalny zbiór (bez resamplingu): {0: 372, 4: 21, 2: 17, 3: 15, 1: 5}\n",
      "SMOTE: {0: 372, 2: 372, 1: 372, 3: 372, 4: 372}\n",
      "ADASYN: {2: 378, 4: 378, 0: 372, 1: 370, 3: 367}\n",
      "Random Oversampling: {0: 372, 2: 372, 1: 372, 3: 372, 4: 372}\n"
     ]
    }
   ],
   "source": [
    "samplers = {\n",
    "    \"random_oversampling\": RandomOverSampler(random_state=19),\n",
    "    \"smote\": SMOTE(random_state=19, k_neighbors=4),\n",
    "    \"adasyn\": ADASYN(random_state=19, n_neighbors=4)\n",
    "}\n",
    "\n",
    "X_train_smote, y_train_smote = samplers[\"smote\"].fit_resample(X_train, y_train)\n",
    "X_train_adasyn, y_train_adasyn = samplers[\"adasyn\"].fit_resample(X_train, y_train)\n",
    "X_train_over, y_train_over = samplers[\"random_oversampling\"].fit_resample(X_train, y_train)\n",
    "\n",
    "print(\"Oryginalny zbiór (bez resamplingu):\", y_train.value_counts().to_dict())\n",
    "print(\"SMOTE:\", y_train_smote.value_counts().to_dict())\n",
    "print(\"ADASYN:\", y_train_adasyn.value_counts().to_dict())\n",
    "print(\"Random Oversampling:\", y_train_over.value_counts().to_dict())"
   ]
  },
  {
   "cell_type": "markdown",
   "id": "53be7661",
   "metadata": {},
   "source": [
    "W celu zniwelowania problemu niezbalansowanych klas w danych treningowych, zastosowano trzy popularne techniki oversamplingu: RandomOverSampler, SMOTE oraz ADASYN. Każda z nich generuje nowe przykłady dla klas mniejszościowych, jednak różnią się podejściem do ich tworzenia.\n",
    "\n",
    "RandomOverSampler - najprostsza metoda, która losowo powiela istniejące próbki z klas mniejszościowych, aż do osiągnięcia równej liczby próbek w każdej klasie. Nie wprowadza nowych informacji, ale skutecznie balansuje zbiór.\n",
    "\n",
    "SMOTE (Synthetic Minority Over-sampling Technique) - generuje syntetyczne przykłady dla klas mniejszościowych poprzez interpolację między istniejącymi próbkami. Dzięki temu uzyskuje się bardziej zróżnicowany zbiór, co może poprawić zdolność generalizacji modeli.\n",
    "\n",
    "ADASYN (Adaptive Synthetic Sampling) - podobnie jak SMOTE tworzy syntetyczne próbki, ale koncentruje się bardziej na trudno klasyfikowalnych przykładach, tj. tych, które znajdują się w pobliżu granicy decyzyjnej. Dzięki temu dostosowuje się do lokalnej struktury danych.\n",
    "\n",
    "Po zastosowaniu każdej z tych metod sprawdzono rozkład liczebności klas, aby potwierdzić, że zbiór został poprawnie zbalansowany. Wszystkie techniki doprowadziły do wyrównania liczby próbek w każdej klasie, co pozwoli na trenowanie modeli w bardziej sprawiedliwych warunkach, bez faworyzowania klas dominujących."
   ]
  },
  {
   "cell_type": "markdown",
   "id": "d29d42cb",
   "metadata": {},
   "source": [
    "## Porównanie modeli klasyfikacyjnych w zależności od metody balansowania danych"
   ]
  },
  {
   "cell_type": "code",
   "execution_count": 26,
   "id": "f51bae9c",
   "metadata": {},
   "outputs": [],
   "source": [
    "datasets = {\n",
    "    \"Oryginalny\": (X_train, y_train),\n",
    "    \"SMOTE\": (X_train_smote, y_train_smote),\n",
    "    \"ADASYN\": (X_train_adasyn, y_train_adasyn),\n",
    "    \"Random Oversampling\": (X_train_over, y_train_over),\n",
    "}"
   ]
  },
  {
   "cell_type": "code",
   "execution_count": 27,
   "id": "3a91a118",
   "metadata": {},
   "outputs": [],
   "source": [
    "def test_balancing_methods(model, model_name, datasets, X_val, y_val):\n",
    "    results = {model_name: {}}\n",
    "\n",
    "    for name, (X_tr, y_tr) in datasets.items():\n",
    "        clf = clone(model)\n",
    "        clf.fit(X_tr, y_tr)\n",
    "\n",
    "        y_pred = clf.predict(X_val)\n",
    "        cm = confusion_matrix(y_val, y_pred)\n",
    "\n",
    "        results[model_name][name] = {\n",
    "            \"F1-Score_Val\": f1_score(y_val, y_pred, average=\"weighted\", zero_division=0),\n",
    "            \"Recall_Val\": recall_score(y_val, y_pred, average=\"weighted\", zero_division=0),\n",
    "            \"Precision_Val\": precision_score(y_val, y_pred, average=\"weighted\", zero_division=0),\n",
    "            \"Accuracy_Val\": accuracy_score(y_val, y_pred),\n",
    "            \"Confusion_Matrix_Val\": cm\n",
    "        }\n",
    "\n",
    "    return results"
   ]
  },
  {
   "cell_type": "markdown",
   "id": "8bb345b4",
   "metadata": {},
   "source": [
    "W celu oceny skuteczności różnych metod balansowania klas w kontekście predykcji, zdefiniowano funkcję test_balancing_methods. Funkcja ta porównuje jakość działania wybranego modelu uczenia maszynowego na zbiorach danych przygotowanych z użyciem różnych strategii resamplingu."
   ]
  },
  {
   "cell_type": "markdown",
   "id": "84a89ca5",
   "metadata": {},
   "source": [
    "### Regresja logistyczna"
   ]
  },
  {
   "cell_type": "code",
   "execution_count": 28,
   "id": "bb3c5d2c",
   "metadata": {},
   "outputs": [],
   "source": [
    "model = LogisticRegression(\n",
    "    random_state = 19,\n",
    "    max_iter = 10000,\n",
    "    penalty = 'l2',\n",
    "    solver = 'lbfgs'\n",
    ")\n",
    "model_name = \"Logistic Regression\"\n",
    "\n",
    "results_lr = test_balancing_methods(model, model_name, datasets, X_val, y_val)"
   ]
  },
  {
   "cell_type": "code",
   "execution_count": 29,
   "id": "ed5b4304",
   "metadata": {},
   "outputs": [
    {
     "data": {
      "text/html": [
       "<style type=\"text/css\">\n",
       "#T_540d2_row0_col0, #T_540d2_row0_col1, #T_540d2_row0_col2, #T_540d2_row0_col3 {\n",
       "  background-color: #1f77d8;\n",
       "  font-weight: bold;\n",
       "}\n",
       "</style>\n",
       "<table id=\"T_540d2\">\n",
       "  <thead>\n",
       "    <tr>\n",
       "      <th class=\"blank level0\" >&nbsp;</th>\n",
       "      <th id=\"T_540d2_level0_col0\" class=\"col_heading level0 col0\" >F1-Score_Val</th>\n",
       "      <th id=\"T_540d2_level0_col1\" class=\"col_heading level0 col1\" >Recall_Val</th>\n",
       "      <th id=\"T_540d2_level0_col2\" class=\"col_heading level0 col2\" >Precision_Val</th>\n",
       "      <th id=\"T_540d2_level0_col3\" class=\"col_heading level0 col3\" >Accuracy_Val</th>\n",
       "    </tr>\n",
       "  </thead>\n",
       "  <tbody>\n",
       "    <tr>\n",
       "      <th id=\"T_540d2_level0_row0\" class=\"row_heading level0 row0\" >Oryginalny</th>\n",
       "      <td id=\"T_540d2_row0_col0\" class=\"data row0 col0\" >0.910</td>\n",
       "      <td id=\"T_540d2_row0_col1\" class=\"data row0 col1\" >0.935</td>\n",
       "      <td id=\"T_540d2_row0_col2\" class=\"data row0 col2\" >0.886</td>\n",
       "      <td id=\"T_540d2_row0_col3\" class=\"data row0 col3\" >0.935</td>\n",
       "    </tr>\n",
       "    <tr>\n",
       "      <th id=\"T_540d2_level0_row1\" class=\"row_heading level0 row1\" >SMOTE</th>\n",
       "      <td id=\"T_540d2_row1_col0\" class=\"data row1 col0\" >0.837</td>\n",
       "      <td id=\"T_540d2_row1_col1\" class=\"data row1 col1\" >0.796</td>\n",
       "      <td id=\"T_540d2_row1_col2\" class=\"data row1 col2\" >0.897</td>\n",
       "      <td id=\"T_540d2_row1_col3\" class=\"data row1 col3\" >0.796</td>\n",
       "    </tr>\n",
       "    <tr>\n",
       "      <th id=\"T_540d2_level0_row2\" class=\"row_heading level0 row2\" >ADASYN</th>\n",
       "      <td id=\"T_540d2_row2_col0\" class=\"data row2 col0\" >0.837</td>\n",
       "      <td id=\"T_540d2_row2_col1\" class=\"data row2 col1\" >0.796</td>\n",
       "      <td id=\"T_540d2_row2_col2\" class=\"data row2 col2\" >0.903</td>\n",
       "      <td id=\"T_540d2_row2_col3\" class=\"data row2 col3\" >0.796</td>\n",
       "    </tr>\n",
       "    <tr>\n",
       "      <th id=\"T_540d2_level0_row3\" class=\"row_heading level0 row3\" >Random Oversampling</th>\n",
       "      <td id=\"T_540d2_row3_col0\" class=\"data row3 col0\" >0.841</td>\n",
       "      <td id=\"T_540d2_row3_col1\" class=\"data row3 col1\" >0.806</td>\n",
       "      <td id=\"T_540d2_row3_col2\" class=\"data row3 col2\" >0.889</td>\n",
       "      <td id=\"T_540d2_row3_col3\" class=\"data row3 col3\" >0.806</td>\n",
       "    </tr>\n",
       "  </tbody>\n",
       "</table>\n"
      ],
      "text/plain": [
       "<pandas.io.formats.style.Styler at 0x1ca959d3490>"
      ]
     },
     "execution_count": 29,
     "metadata": {},
     "output_type": "execute_result"
    }
   ],
   "source": [
    "df_results_lr = pd.DataFrame(results_lr[\"Logistic Regression\"]).T\n",
    "df_results_lr = df_results_lr.drop(columns=[\"Confusion_Matrix_Val\"])\n",
    "df_results_lr.style.apply(\n",
    "    lambda row: [\n",
    "        'background-color: #1f77d8; font-weight: bold' if row.name == 'Oryginalny' else ''\n",
    "        for _ in row\n",
    "    ], axis=1\n",
    ").format(precision=3)"
   ]
  },
  {
   "cell_type": "markdown",
   "id": "b6874d2e",
   "metadata": {},
   "source": [
    "Model trenowany na oryginalnych danych:\n",
    "\n",
    "- Osiąga najwyższy F1-Score (0.911) i najwyższy Recall (0.935) – oznacza to, że bardzo skutecznie rozpoznaje klasy i rzadko je pomija.\n",
    "\n",
    "- Accuracy również najwyższe (0.935) – najlepszy ogólny wynik predykcji.\n",
    "\n",
    "- Precision (0.889) jest tylko minimalnie niższy niż dla zbalansowanych wersji, ale pozostałe metryki są zdecydowanie lepsze.\n",
    "\n",
    "Modele trenowane na danych po balansowaniu:\n",
    "\n",
    "- Mają niższy F1-Score i Recall – oznacza to, że mimo wyższej precyzji (zwłaszcza w ADASYN), gorzej rozpoznają przypadki z mniejszych klas.\n",
    "\n",
    "- Accuracy znacząco spada (do ok. 0.796–0.806), co świadczy o ogólnym pogorszeniu skuteczności.\n",
    "\n",
    "Model Regresji Logistycznej trenowany na oryginalnym zbiorze danych zapewnia najlepszą równowagę między precyzją, czułością i ogólną skutecznością. W związku z tym został wybrany do dalszych analiz jako najbardziej efektywny."
   ]
  },
  {
   "cell_type": "markdown",
   "id": "6065fe9f",
   "metadata": {},
   "source": [
    "### Random Forest"
   ]
  },
  {
   "cell_type": "code",
   "execution_count": 30,
   "id": "2811eda1",
   "metadata": {},
   "outputs": [],
   "source": [
    "model = RandomForestClassifier(\n",
    "    random_state = 19,\n",
    "    n_estimators = 100,\n",
    "    max_depth = 10\n",
    ")\n",
    "model_name = \"Random Forest\"\n",
    "\n",
    "results_rf = test_balancing_methods(model, model_name, datasets, X_val, y_val)"
   ]
  },
  {
   "cell_type": "code",
   "execution_count": 31,
   "id": "58ec865a",
   "metadata": {},
   "outputs": [
    {
     "data": {
      "text/html": [
       "<style type=\"text/css\">\n",
       "#T_46979_row0_col0, #T_46979_row0_col1, #T_46979_row0_col2, #T_46979_row0_col3 {\n",
       "  background-color: #1f77d8;\n",
       "  font-weight: bold;\n",
       "}\n",
       "</style>\n",
       "<table id=\"T_46979\">\n",
       "  <thead>\n",
       "    <tr>\n",
       "      <th class=\"blank level0\" >&nbsp;</th>\n",
       "      <th id=\"T_46979_level0_col0\" class=\"col_heading level0 col0\" >F1-Score_Val</th>\n",
       "      <th id=\"T_46979_level0_col1\" class=\"col_heading level0 col1\" >Recall_Val</th>\n",
       "      <th id=\"T_46979_level0_col2\" class=\"col_heading level0 col2\" >Precision_Val</th>\n",
       "      <th id=\"T_46979_level0_col3\" class=\"col_heading level0 col3\" >Accuracy_Val</th>\n",
       "    </tr>\n",
       "  </thead>\n",
       "  <tbody>\n",
       "    <tr>\n",
       "      <th id=\"T_46979_level0_row0\" class=\"row_heading level0 row0\" >Oryginalny</th>\n",
       "      <td id=\"T_46979_row0_col0\" class=\"data row0 col0\" >0.888</td>\n",
       "      <td id=\"T_46979_row0_col1\" class=\"data row0 col1\" >0.914</td>\n",
       "      <td id=\"T_46979_row0_col2\" class=\"data row0 col2\" >0.863</td>\n",
       "      <td id=\"T_46979_row0_col3\" class=\"data row0 col3\" >0.914</td>\n",
       "    </tr>\n",
       "    <tr>\n",
       "      <th id=\"T_46979_level0_row1\" class=\"row_heading level0 row1\" >SMOTE</th>\n",
       "      <td id=\"T_46979_row1_col0\" class=\"data row1 col0\" >0.885</td>\n",
       "      <td id=\"T_46979_row1_col1\" class=\"data row1 col1\" >0.892</td>\n",
       "      <td id=\"T_46979_row1_col2\" class=\"data row1 col2\" >0.882</td>\n",
       "      <td id=\"T_46979_row1_col3\" class=\"data row1 col3\" >0.892</td>\n",
       "    </tr>\n",
       "    <tr>\n",
       "      <th id=\"T_46979_level0_row2\" class=\"row_heading level0 row2\" >ADASYN</th>\n",
       "      <td id=\"T_46979_row2_col0\" class=\"data row2 col0\" >0.879</td>\n",
       "      <td id=\"T_46979_row2_col1\" class=\"data row2 col1\" >0.882</td>\n",
       "      <td id=\"T_46979_row2_col2\" class=\"data row2 col2\" >0.882</td>\n",
       "      <td id=\"T_46979_row2_col3\" class=\"data row2 col3\" >0.882</td>\n",
       "    </tr>\n",
       "    <tr>\n",
       "      <th id=\"T_46979_level0_row3\" class=\"row_heading level0 row3\" >Random Oversampling</th>\n",
       "      <td id=\"T_46979_row3_col0\" class=\"data row3 col0\" >0.878</td>\n",
       "      <td id=\"T_46979_row3_col1\" class=\"data row3 col1\" >0.892</td>\n",
       "      <td id=\"T_46979_row3_col2\" class=\"data row3 col2\" >0.865</td>\n",
       "      <td id=\"T_46979_row3_col3\" class=\"data row3 col3\" >0.892</td>\n",
       "    </tr>\n",
       "  </tbody>\n",
       "</table>\n"
      ],
      "text/plain": [
       "<pandas.io.formats.style.Styler at 0x1ca95d126e0>"
      ]
     },
     "execution_count": 31,
     "metadata": {},
     "output_type": "execute_result"
    }
   ],
   "source": [
    "df_results_rf = pd.DataFrame(results_rf[\"Random Forest\"]).T\n",
    "df_results_rf = df_results_rf.drop(columns=[\"Confusion_Matrix_Val\"])\n",
    "df_results_rf.style.apply(\n",
    "    lambda row: [\n",
    "        'background-color: #1f77d8; font-weight: bold' if row.name == 'Oryginalny' else ''\n",
    "        for _ in row\n",
    "    ], axis=1\n",
    ").format(precision=3)"
   ]
  },
  {
   "cell_type": "markdown",
   "id": "42853a21",
   "metadata": {},
   "source": [
    "Dane oryginalne osiągnęły najwyższą skuteczność we większości głównych metrykach:\n",
    "\n",
    "- Najwyższy F1-Score (0.888) - równowaga między precyzją a czułością.\n",
    "\n",
    "- Najwyższy Recall (0.914) - oznacza, że model najlepiej wychwytuje rzeczywiste przypadki danej klasy.\n",
    "\n",
    "- Najwyższy Accuracy (0.914) - ogólna trafność predykcji.\n",
    "\n",
    "Metody balansujące (SMOTE, ADASYN, Oversampling):\n",
    "\n",
    "- Ich wyniki są nieco niższe, mimo że celem było poprawienie wykrywania klas mniejszościowych.\n",
    "\n",
    "- Może to oznaczać, że dane oryginalne są już dobrze reprezentatywne, a resampling prowadzi do lekkiego przeuczenia lub wprowadzenia szumu.\n",
    "\n",
    "Pomimo problemu niezbalansowanych danych, Random Forest trenowany na oryginalnym zbiorze daje najlepsze rezultaty, zarówno pod względem precyzji, jak i czułości. Z tego względu został wybrany do dalszej analizy."
   ]
  },
  {
   "cell_type": "markdown",
   "id": "9cce25c7",
   "metadata": {},
   "source": [
    "### XGBoost"
   ]
  },
  {
   "cell_type": "code",
   "execution_count": 32,
   "id": "74370d3d",
   "metadata": {},
   "outputs": [],
   "source": [
    "xgb_model = xgb.XGBClassifier(\n",
    "    objective='multi:softmax',\n",
    "    num_class=5,\n",
    "    eval_metric='mlogloss',\n",
    "    random_state=19\n",
    ")\n",
    "model_name = \"XGBoost\"\n",
    "\n",
    "results_xgb = test_balancing_methods(model, model_name, datasets, X_val, y_val)"
   ]
  },
  {
   "cell_type": "code",
   "execution_count": 33,
   "id": "c398dad1",
   "metadata": {},
   "outputs": [
    {
     "data": {
      "text/html": [
       "<style type=\"text/css\">\n",
       "#T_75ef3_row0_col0, #T_75ef3_row0_col1, #T_75ef3_row0_col2, #T_75ef3_row0_col3 {\n",
       "  background-color: #1f77d8;\n",
       "  font-weight: bold;\n",
       "}\n",
       "</style>\n",
       "<table id=\"T_75ef3\">\n",
       "  <thead>\n",
       "    <tr>\n",
       "      <th class=\"blank level0\" >&nbsp;</th>\n",
       "      <th id=\"T_75ef3_level0_col0\" class=\"col_heading level0 col0\" >F1-Score_Val</th>\n",
       "      <th id=\"T_75ef3_level0_col1\" class=\"col_heading level0 col1\" >Recall_Val</th>\n",
       "      <th id=\"T_75ef3_level0_col2\" class=\"col_heading level0 col2\" >Precision_Val</th>\n",
       "      <th id=\"T_75ef3_level0_col3\" class=\"col_heading level0 col3\" >Accuracy_Val</th>\n",
       "    </tr>\n",
       "  </thead>\n",
       "  <tbody>\n",
       "    <tr>\n",
       "      <th id=\"T_75ef3_level0_row0\" class=\"row_heading level0 row0\" >Oryginalny</th>\n",
       "      <td id=\"T_75ef3_row0_col0\" class=\"data row0 col0\" >0.888</td>\n",
       "      <td id=\"T_75ef3_row0_col1\" class=\"data row0 col1\" >0.914</td>\n",
       "      <td id=\"T_75ef3_row0_col2\" class=\"data row0 col2\" >0.863</td>\n",
       "      <td id=\"T_75ef3_row0_col3\" class=\"data row0 col3\" >0.914</td>\n",
       "    </tr>\n",
       "    <tr>\n",
       "      <th id=\"T_75ef3_level0_row1\" class=\"row_heading level0 row1\" >SMOTE</th>\n",
       "      <td id=\"T_75ef3_row1_col0\" class=\"data row1 col0\" >0.885</td>\n",
       "      <td id=\"T_75ef3_row1_col1\" class=\"data row1 col1\" >0.892</td>\n",
       "      <td id=\"T_75ef3_row1_col2\" class=\"data row1 col2\" >0.882</td>\n",
       "      <td id=\"T_75ef3_row1_col3\" class=\"data row1 col3\" >0.892</td>\n",
       "    </tr>\n",
       "    <tr>\n",
       "      <th id=\"T_75ef3_level0_row2\" class=\"row_heading level0 row2\" >ADASYN</th>\n",
       "      <td id=\"T_75ef3_row2_col0\" class=\"data row2 col0\" >0.879</td>\n",
       "      <td id=\"T_75ef3_row2_col1\" class=\"data row2 col1\" >0.882</td>\n",
       "      <td id=\"T_75ef3_row2_col2\" class=\"data row2 col2\" >0.882</td>\n",
       "      <td id=\"T_75ef3_row2_col3\" class=\"data row2 col3\" >0.882</td>\n",
       "    </tr>\n",
       "    <tr>\n",
       "      <th id=\"T_75ef3_level0_row3\" class=\"row_heading level0 row3\" >Random Oversampling</th>\n",
       "      <td id=\"T_75ef3_row3_col0\" class=\"data row3 col0\" >0.878</td>\n",
       "      <td id=\"T_75ef3_row3_col1\" class=\"data row3 col1\" >0.892</td>\n",
       "      <td id=\"T_75ef3_row3_col2\" class=\"data row3 col2\" >0.865</td>\n",
       "      <td id=\"T_75ef3_row3_col3\" class=\"data row3 col3\" >0.892</td>\n",
       "    </tr>\n",
       "  </tbody>\n",
       "</table>\n"
      ],
      "text/plain": [
       "<pandas.io.formats.style.Styler at 0x1ca95b82260>"
      ]
     },
     "execution_count": 33,
     "metadata": {},
     "output_type": "execute_result"
    }
   ],
   "source": [
    "df_results_xgb = pd.DataFrame(results_xgb[\"XGBoost\"]).T\n",
    "df_results_xgb = df_results_xgb.drop(columns=[\"Confusion_Matrix_Val\"])\n",
    "df_results_xgb.style.apply(\n",
    "    lambda row: [\n",
    "        'background-color: #1f77d8; font-weight: bold' if row.name == 'Oryginalny' else ''\n",
    "        for _ in row\n",
    "    ], axis=1\n",
    ").format(precision=3)"
   ]
  },
  {
   "cell_type": "markdown",
   "id": "9dd8229c",
   "metadata": {},
   "source": [
    "Model trenowany na oryginalnych danych osiągnął:\n",
    "\n",
    "- Najwyższy F1-Score (0.888) – co oznacza najlepszą równowagę między precyzją a czułością.\n",
    "\n",
    "- Najwyższy Recall (0.914) – najwięcej poprawnie wykrytych rzeczywistych przypadków.\n",
    "\n",
    "- Najwyższy Accuracy (0.914) – największy odsetek poprawnych predykcji ogółem.\n",
    "\n",
    "- Nieco niższą precyzję niż SMOTE i ADASYN, ale nadal bardzo dobrą (0.863).\n",
    "\n",
    "Metody balansujące (SMOTE, ADASYN, Random Oversampling):\n",
    "\n",
    "- Nie poprawiły skuteczności modelu – w niektórych przypadkach nawet ją obniżyły.\n",
    "\n",
    "- Precyzja nieco wyższa (np. 0.882 dla SMOTE/ADASYN), ale odbywa się to kosztem Recall i Accuracy.\n",
    "\n",
    "Model XGBOOST trenowany na oryginalnym zbiorze danych wykazuje najlepszą skuteczność i stabilność. Dlatego został wybrany do dalszej analizy jako najbardziej optymalne rozwiązanie."
   ]
  },
  {
   "cell_type": "markdown",
   "id": "9ddc5001",
   "metadata": {},
   "source": [
    "### KNN"
   ]
  },
  {
   "cell_type": "code",
   "execution_count": 34,
   "id": "4094a579",
   "metadata": {},
   "outputs": [],
   "source": [
    "knn = KNeighborsClassifier(n_neighbors=5)\n",
    "model_name = \"KNN\"\n",
    "results_knn = test_balancing_methods(knn, model_name, datasets, X_val, y_val)"
   ]
  },
  {
   "cell_type": "code",
   "execution_count": 35,
   "id": "5539bd1d",
   "metadata": {},
   "outputs": [
    {
     "data": {
      "text/html": [
       "<style type=\"text/css\">\n",
       "#T_22302_row0_col0, #T_22302_row0_col1, #T_22302_row0_col2, #T_22302_row0_col3 {\n",
       "  background-color: #1f77d8;\n",
       "  font-weight: bold;\n",
       "}\n",
       "</style>\n",
       "<table id=\"T_22302\">\n",
       "  <thead>\n",
       "    <tr>\n",
       "      <th class=\"blank level0\" >&nbsp;</th>\n",
       "      <th id=\"T_22302_level0_col0\" class=\"col_heading level0 col0\" >F1-Score_Val</th>\n",
       "      <th id=\"T_22302_level0_col1\" class=\"col_heading level0 col1\" >Recall_Val</th>\n",
       "      <th id=\"T_22302_level0_col2\" class=\"col_heading level0 col2\" >Precision_Val</th>\n",
       "      <th id=\"T_22302_level0_col3\" class=\"col_heading level0 col3\" >Accuracy_Val</th>\n",
       "    </tr>\n",
       "  </thead>\n",
       "  <tbody>\n",
       "    <tr>\n",
       "      <th id=\"T_22302_level0_row0\" class=\"row_heading level0 row0\" >Oryginalny</th>\n",
       "      <td id=\"T_22302_row0_col0\" class=\"data row0 col0\" >0.916</td>\n",
       "      <td id=\"T_22302_row0_col1\" class=\"data row0 col1\" >0.935</td>\n",
       "      <td id=\"T_22302_row0_col2\" class=\"data row0 col2\" >0.912</td>\n",
       "      <td id=\"T_22302_row0_col3\" class=\"data row0 col3\" >0.935</td>\n",
       "    </tr>\n",
       "    <tr>\n",
       "      <th id=\"T_22302_level0_row1\" class=\"row_heading level0 row1\" >SMOTE</th>\n",
       "      <td id=\"T_22302_row1_col0\" class=\"data row1 col0\" >0.852</td>\n",
       "      <td id=\"T_22302_row1_col1\" class=\"data row1 col1\" >0.828</td>\n",
       "      <td id=\"T_22302_row1_col2\" class=\"data row1 col2\" >0.885</td>\n",
       "      <td id=\"T_22302_row1_col3\" class=\"data row1 col3\" >0.828</td>\n",
       "    </tr>\n",
       "    <tr>\n",
       "      <th id=\"T_22302_level0_row2\" class=\"row_heading level0 row2\" >ADASYN</th>\n",
       "      <td id=\"T_22302_row2_col0\" class=\"data row2 col0\" >0.839</td>\n",
       "      <td id=\"T_22302_row2_col1\" class=\"data row2 col1\" >0.796</td>\n",
       "      <td id=\"T_22302_row2_col2\" class=\"data row2 col2\" >0.897</td>\n",
       "      <td id=\"T_22302_row2_col3\" class=\"data row2 col3\" >0.796</td>\n",
       "    </tr>\n",
       "    <tr>\n",
       "      <th id=\"T_22302_level0_row3\" class=\"row_heading level0 row3\" >Random Oversampling</th>\n",
       "      <td id=\"T_22302_row3_col0\" class=\"data row3 col0\" >0.892</td>\n",
       "      <td id=\"T_22302_row3_col1\" class=\"data row3 col1\" >0.882</td>\n",
       "      <td id=\"T_22302_row3_col2\" class=\"data row3 col2\" >0.909</td>\n",
       "      <td id=\"T_22302_row3_col3\" class=\"data row3 col3\" >0.882</td>\n",
       "    </tr>\n",
       "  </tbody>\n",
       "</table>\n"
      ],
      "text/plain": [
       "<pandas.io.formats.style.Styler at 0x1ca95f0dab0>"
      ]
     },
     "execution_count": 35,
     "metadata": {},
     "output_type": "execute_result"
    }
   ],
   "source": [
    "df_results_knn = pd.DataFrame(results_knn[\"KNN\"]).T\n",
    "df_results_knn = df_results_knn.drop(columns=[\"Confusion_Matrix_Val\"])\n",
    "df_results_knn.style.apply(\n",
    "    lambda row: [\n",
    "        'background-color: #1f77d8; font-weight: bold' if row.name == 'Oryginalny' else ''\n",
    "        for _ in row\n",
    "    ], axis=1\n",
    ").format(precision=3)"
   ]
  },
  {
   "cell_type": "markdown",
   "id": "b8b72e80",
   "metadata": {},
   "source": [
    "Model trenowany na oryginalnych danych:\n",
    "\n",
    "- Osiąga najwyższy F1-Score (0.916), Recall (0.935) oraz Accuracy (0.935).\n",
    "\n",
    "- Precision również bardzo wysokie (0.912), co oznacza, że model nie tylko dobrze rozpoznaje przypadki z różnych klas, ale robi to z dużą precyzją.\n",
    "\n",
    "- Model bardzo dobrze radzi sobie bez potrzeby dodatkowego balansowania klas.\n",
    "\n",
    "Modele trenowane na danych zbalansowanych:\n",
    "\n",
    "- Pomimo zastosowania technik balansujących, wszystkie metryki pogarszają się w porównaniu do modelu na danych oryginalnych.\n",
    "\n",
    "- Szczególnie widoczne jest to w spadku Accuracy i Recall.\n",
    "\n",
    "- Najbliżej wyników oryginalnych jest Random Oversampling, ale nadal ustępuje mu we wszystkich metrykach.\n",
    "\n",
    "Model KNN trenowany na oryginalnych danych jest zdecydowanie najskuteczniejszy i został wybrany do dalszej analizy, ponieważ zapewnia najwyższe wyniki we wszystkich kluczowych metrykach. Balansowanie danych w jego przypadku nie przyniosło żadnych korzyści, a wręcz pogorszyło skuteczność modelu."
   ]
  },
  {
   "cell_type": "markdown",
   "id": "ae9342d6",
   "metadata": {},
   "source": [
    "## Zestawienie najlepszych wyników klasyfikatorów z uwzględnieniem metod balansowania"
   ]
  },
  {
   "cell_type": "code",
   "execution_count": 36,
   "id": "9b6294e6",
   "metadata": {},
   "outputs": [
    {
     "data": {
      "text/html": [
       "<style type=\"text/css\">\n",
       "#T_cf1d4_row3_col0, #T_cf1d4_row3_col1, #T_cf1d4_row3_col2, #T_cf1d4_row3_col3, #T_cf1d4_row3_col4, #T_cf1d4_row3_col5 {\n",
       "  background-color: #1f77d8;\n",
       "  font-weight: bold;\n",
       "}\n",
       "</style>\n",
       "<table id=\"T_cf1d4\">\n",
       "  <thead>\n",
       "    <tr>\n",
       "      <th id=\"T_cf1d4_level0_col0\" class=\"col_heading level0 col0\" >Model</th>\n",
       "      <th id=\"T_cf1d4_level0_col1\" class=\"col_heading level0 col1\" >Balansowanie</th>\n",
       "      <th id=\"T_cf1d4_level0_col2\" class=\"col_heading level0 col2\" >F1-Score_Val</th>\n",
       "      <th id=\"T_cf1d4_level0_col3\" class=\"col_heading level0 col3\" >Recall_Val</th>\n",
       "      <th id=\"T_cf1d4_level0_col4\" class=\"col_heading level0 col4\" >Precision_Val</th>\n",
       "      <th id=\"T_cf1d4_level0_col5\" class=\"col_heading level0 col5\" >Accuracy_Val</th>\n",
       "    </tr>\n",
       "  </thead>\n",
       "  <tbody>\n",
       "    <tr>\n",
       "      <td id=\"T_cf1d4_row0_col0\" class=\"data row0 col0\" >Logistic Regression</td>\n",
       "      <td id=\"T_cf1d4_row0_col1\" class=\"data row0 col1\" >Oryginalny</td>\n",
       "      <td id=\"T_cf1d4_row0_col2\" class=\"data row0 col2\" >0.910</td>\n",
       "      <td id=\"T_cf1d4_row0_col3\" class=\"data row0 col3\" >0.935</td>\n",
       "      <td id=\"T_cf1d4_row0_col4\" class=\"data row0 col4\" >0.886</td>\n",
       "      <td id=\"T_cf1d4_row0_col5\" class=\"data row0 col5\" >0.935</td>\n",
       "    </tr>\n",
       "    <tr>\n",
       "      <td id=\"T_cf1d4_row1_col0\" class=\"data row1 col0\" >Random Forest</td>\n",
       "      <td id=\"T_cf1d4_row1_col1\" class=\"data row1 col1\" >Oryginalny</td>\n",
       "      <td id=\"T_cf1d4_row1_col2\" class=\"data row1 col2\" >0.888</td>\n",
       "      <td id=\"T_cf1d4_row1_col3\" class=\"data row1 col3\" >0.914</td>\n",
       "      <td id=\"T_cf1d4_row1_col4\" class=\"data row1 col4\" >0.863</td>\n",
       "      <td id=\"T_cf1d4_row1_col5\" class=\"data row1 col5\" >0.914</td>\n",
       "    </tr>\n",
       "    <tr>\n",
       "      <td id=\"T_cf1d4_row2_col0\" class=\"data row2 col0\" >XGBoost</td>\n",
       "      <td id=\"T_cf1d4_row2_col1\" class=\"data row2 col1\" >Oryginalny</td>\n",
       "      <td id=\"T_cf1d4_row2_col2\" class=\"data row2 col2\" >0.888</td>\n",
       "      <td id=\"T_cf1d4_row2_col3\" class=\"data row2 col3\" >0.914</td>\n",
       "      <td id=\"T_cf1d4_row2_col4\" class=\"data row2 col4\" >0.863</td>\n",
       "      <td id=\"T_cf1d4_row2_col5\" class=\"data row2 col5\" >0.914</td>\n",
       "    </tr>\n",
       "    <tr>\n",
       "      <td id=\"T_cf1d4_row3_col0\" class=\"data row3 col0\" >KNN</td>\n",
       "      <td id=\"T_cf1d4_row3_col1\" class=\"data row3 col1\" >Oryginalny</td>\n",
       "      <td id=\"T_cf1d4_row3_col2\" class=\"data row3 col2\" >0.916</td>\n",
       "      <td id=\"T_cf1d4_row3_col3\" class=\"data row3 col3\" >0.935</td>\n",
       "      <td id=\"T_cf1d4_row3_col4\" class=\"data row3 col4\" >0.912</td>\n",
       "      <td id=\"T_cf1d4_row3_col5\" class=\"data row3 col5\" >0.935</td>\n",
       "    </tr>\n",
       "  </tbody>\n",
       "</table>\n"
      ],
      "text/plain": [
       "<pandas.io.formats.style.Styler at 0x1ca95efd0c0>"
      ]
     },
     "execution_count": 36,
     "metadata": {},
     "output_type": "execute_result"
    }
   ],
   "source": [
    "model_names = ['Logistic Regression', 'Random Forest', 'XGBoost', 'KNN']\n",
    "dataframes = [df_results_lr, df_results_rf, df_results_xgb, df_results_knn]\n",
    "\n",
    "best_models = []\n",
    "\n",
    "for model_name, df in zip(model_names, dataframes):\n",
    "    best = df.loc[df['F1-Score_Val'].idxmax()]\n",
    "    row = {\n",
    "        'Model': model_name,\n",
    "        'Balansowanie': best.name,\n",
    "        **best.to_dict()\n",
    "    }\n",
    "    best_models.append(row)\n",
    "\n",
    "df_best_models = pd.DataFrame(best_models)\n",
    "df_best_models = df_best_models.reset_index(drop=True)\n",
    "\n",
    "df_best_models.style.apply(\n",
    "    lambda row: [\n",
    "        'background-color: #1f77d8; font-weight: bold' if row[\"Model\"] == 'KNN' else ''\n",
    "        for _ in row\n",
    "    ],\n",
    "    axis=1\n",
    ").format(precision=3).hide(axis=\"index\")"
   ]
  },
  {
   "cell_type": "markdown",
   "id": "35bf6645",
   "metadata": {},
   "source": [
    "Model KNN został wybrany jako model finalny, ponieważ osiągnął najwyższe wartości we wszystkich kluczowych metrykach walidacyjnych – F1-Score (0.916), Recall (0.935), Precision (0.912) oraz Accuracy (0.935). Oznacza to, że jest najbardziej zrównoważony i skuteczny spośród wszystkich porównywanych modeli, najlepiej klasyfikując próbki bez potrzeby dodatkowego balansowania danych."
   ]
  },
  {
   "cell_type": "markdown",
   "id": "a8a07299",
   "metadata": {},
   "source": [
    "## Funkcja do ewaluacji modelu"
   ]
  },
  {
   "cell_type": "code",
   "execution_count": 37,
   "id": "40571633",
   "metadata": {},
   "outputs": [],
   "source": [
    "def train_and_evaluate_model(model, model_name, X_tr, y_tr, X_v, y_v):\n",
    "    results = {}\n",
    "\n",
    "    clf = clone(model)\n",
    "    clf.fit(X_tr, y_tr)\n",
    "\n",
    "    y_pred_train = clf.predict(X_tr)\n",
    "\n",
    "    y_pred = clf.predict(X_v)\n",
    "    cm = confusion_matrix(y_v, y_pred)\n",
    "\n",
    "    results[model_name] = {\n",
    "        \"F1-Score_Train\": f1_score(y_tr, y_pred_train, average=\"weighted\", zero_division=0),\n",
    "        \"Recall_Train\": recall_score(y_tr, y_pred_train, average=\"weighted\", zero_division=0),\n",
    "        \"Precision_Train\": precision_score(y_tr, y_pred_train, average=\"weighted\", zero_division=0),\n",
    "        \"Accuracy_Train\": accuracy_score(y_tr, y_pred_train),\n",
    "\n",
    "        \"F1-Score_Val\": f1_score(y_v, y_pred, average=\"weighted\", zero_division=0),\n",
    "        \"Recall_Val\": recall_score(y_v, y_pred, average=\"weighted\", zero_division=0),\n",
    "        \"Precision_Val\": precision_score(y_v, y_pred, average=\"weighted\", zero_division=0),\n",
    "        \"Accuracy_Val\": accuracy_score(y_v, y_pred),\n",
    "        \"Confusion_Matrix_Val\": cm\n",
    "    }\n",
    "\n",
    "    return results, clf"
   ]
  },
  {
   "cell_type": "code",
   "execution_count": 38,
   "id": "4c80b726",
   "metadata": {},
   "outputs": [],
   "source": [
    "knn = KNeighborsClassifier(n_neighbors=5)\n",
    "model_name = \"KNN\"\n",
    "results, trained_model = train_and_evaluate_model(knn, model_name, X_train, y_train, X_val, y_val)"
   ]
  },
  {
   "cell_type": "code",
   "execution_count": 39,
   "id": "28f219d9",
   "metadata": {},
   "outputs": [
    {
     "data": {
      "text/html": [
       "<style type=\"text/css\">\n",
       "#T_6ccc7_row0_col0, #T_6ccc7_row0_col1, #T_6ccc7_row0_col2, #T_6ccc7_row0_col3, #T_6ccc7_row0_col4, #T_6ccc7_row0_col5, #T_6ccc7_row0_col6, #T_6ccc7_row0_col7 {\n",
       "  background-color: #1f77d8;\n",
       "  font-weight: bold;\n",
       "}\n",
       "</style>\n",
       "<table id=\"T_6ccc7\">\n",
       "  <thead>\n",
       "    <tr>\n",
       "      <th id=\"T_6ccc7_level0_col0\" class=\"col_heading level0 col0\" >F1-Score_Train</th>\n",
       "      <th id=\"T_6ccc7_level0_col1\" class=\"col_heading level0 col1\" >Recall_Train</th>\n",
       "      <th id=\"T_6ccc7_level0_col2\" class=\"col_heading level0 col2\" >Precision_Train</th>\n",
       "      <th id=\"T_6ccc7_level0_col3\" class=\"col_heading level0 col3\" >Accuracy_Train</th>\n",
       "      <th id=\"T_6ccc7_level0_col4\" class=\"col_heading level0 col4\" >F1-Score_Val</th>\n",
       "      <th id=\"T_6ccc7_level0_col5\" class=\"col_heading level0 col5\" >Recall_Val</th>\n",
       "      <th id=\"T_6ccc7_level0_col6\" class=\"col_heading level0 col6\" >Precision_Val</th>\n",
       "      <th id=\"T_6ccc7_level0_col7\" class=\"col_heading level0 col7\" >Accuracy_Val</th>\n",
       "    </tr>\n",
       "  </thead>\n",
       "  <tbody>\n",
       "    <tr>\n",
       "      <td id=\"T_6ccc7_row0_col0\" class=\"data row0 col0\" >0.895</td>\n",
       "      <td id=\"T_6ccc7_row0_col1\" class=\"data row0 col1\" >0.909</td>\n",
       "      <td id=\"T_6ccc7_row0_col2\" class=\"data row0 col2\" >0.885</td>\n",
       "      <td id=\"T_6ccc7_row0_col3\" class=\"data row0 col3\" >0.909</td>\n",
       "      <td id=\"T_6ccc7_row0_col4\" class=\"data row0 col4\" >0.916</td>\n",
       "      <td id=\"T_6ccc7_row0_col5\" class=\"data row0 col5\" >0.935</td>\n",
       "      <td id=\"T_6ccc7_row0_col6\" class=\"data row0 col6\" >0.912</td>\n",
       "      <td id=\"T_6ccc7_row0_col7\" class=\"data row0 col7\" >0.935</td>\n",
       "    </tr>\n",
       "  </tbody>\n",
       "</table>\n"
      ],
      "text/plain": [
       "<pandas.io.formats.style.Styler at 0x1ca95b736d0>"
      ]
     },
     "execution_count": 39,
     "metadata": {},
     "output_type": "execute_result"
    }
   ],
   "source": [
    "metrics_only = results[\"KNN\"].copy()\n",
    "metrics_only.pop(\"Confusion_Matrix_Val\", None)\n",
    "df_results = pd.DataFrame([metrics_only], index=[\"KNN\"])\n",
    "df_results.style.apply(\n",
    "    lambda row: ['background-color: #1f77d8; font-weight: bold'] * len(row),\n",
    "    axis=1\n",
    ").format(precision=3).hide(axis=\"index\")"
   ]
  },
  {
   "cell_type": "markdown",
   "id": "7a88f78a",
   "metadata": {},
   "source": [
    "- F1-Score (miara równowagi między precision a recall) osiąga 0.895 na zbiorze treningowym i 0.916 na walidacyjnym, co wskazuje, że model jest skuteczny zarówno w nauce, jak i w generalizacji na nowe dane.\n",
    "\n",
    "- Recall (Czułość) to 0.909 na zbiorze treningowym i 0.935 na walidacyjnym – oznacza to, że model bardzo dobrze wykrywa prawidłowe przypadki wszystkich klas i rzadko pomija istotne obserwacje.\n",
    "\n",
    "- Precision (Precyzja) to 0.885 (trening) i 0.912 (walidacja), co potwierdza, że większość przypisań przez model jest trafna i generuje on niewiele fałszywych alarmów.\n",
    "\n",
    "- Accuracy (Dokładność): 90,9% na treningu i 93,5% na walidacji – bardzo wysoka skuteczność klasyfikacji.\n",
    "\n",
    "Model KNN nie wykazuje oznak przeuczenia (overfittingu), ponieważ jego wyniki na zbiorze walidacyjnym są nawet lepsze niż na treningowym. Oznacza to, że nauczył się reprezentatywnych wzorców z danych bez nadmiernego dopasowania. Jest to bardzo dobry rezultat, który świadczy o wysokiej jakości modelu."
   ]
  },
  {
   "cell_type": "markdown",
   "id": "fb3ccf92",
   "metadata": {},
   "source": [
    "## Macierz pomyłek dla modelu KNN"
   ]
  },
  {
   "cell_type": "code",
   "execution_count": 40,
   "id": "def6d686",
   "metadata": {},
   "outputs": [
    {
     "data": {
      "image/png": "[encoded data removed]",
      "text/plain": [
       "<Figure size 640x480 with 2 Axes>"
      ]
     },
     "metadata": {},
     "output_type": "display_data"
    }
   ],
   "source": [
    "cm = results_knn[\"KNN\"][\"Oryginalny\"][\"Confusion_Matrix_Val\"]\n",
    "\n",
    "disp = ConfusionMatrixDisplay(confusion_matrix=cm)\n",
    "fig, ax = plt.subplots()\n",
    "disp.plot(cmap=\"Reds\", ax=ax)\n",
    "ax.grid(False)\n",
    "plt.title(\"KNN - Oryginalne dane\")\n",
    "plt.show()"
   ]
  },
  {
   "cell_type": "markdown",
   "id": "6fc5c986",
   "metadata": {},
   "source": [
    "Klasa 0 (najliczniejsza):\n",
    "\n",
    "- 81 próbek poprawnie sklasyfikowanych .\n",
    "\n",
    "- Żadna próbka klasy 0 nie została pomylona — bardzo dobra skuteczność.\n",
    "\n",
    "Klasa 1:\n",
    "\n",
    "- 1 przypadek poprawnie sklasyfikowany.\n",
    "\n",
    "- Brak błędnych klasyfikacji – ale niska liczebność może zaniżać wartość statystyczną tej oceny.\n",
    "\n",
    "Klasa 2:\n",
    "\n",
    "- 1 przypadek poprawnie sklasyfikowany.\n",
    "\n",
    "- 2 przypadki błędnie zaklasyfikowane jako klasa 0 oraz 1 przypadek jako klasa 1.\n",
    "\n",
    "Klasa 3:\n",
    "\n",
    "- 1 przypadek poprawny.\n",
    "\n",
    "- 2 błędnie przypisane do klasy 0.\n",
    "\n",
    "Klasa 4:\n",
    "\n",
    "- 4 poprawne klasyfikacje.\n",
    "\n",
    "- 1 błędna – przypisana do klasy 0.\n",
    "\n",
    "\n",
    "Model KNN bardzo dobrze radzi sobie z klasyfikacją najliczniejszej klasy 0, co wpływa na wysokie metryki ogólne (accuracy, recall, F1-score). Gorzej radzi sobie z mniejszościowymi klasami – często błędnie przypisuje je do klasy 0. To zjawisko jest typowe dla niezbalansowanych zbiorów – model „uczy się” rozpoznawać dominującą klasę, ignorując słabsze.\n",
    "\n"
   ]
  },
  {
   "cell_type": "markdown",
   "id": "f21922f1",
   "metadata": {},
   "source": [
    "## Optymalizacja hiperparametrów"
   ]
  },
  {
   "cell_type": "code",
   "execution_count": 41,
   "id": "17081b7a",
   "metadata": {},
   "outputs": [],
   "source": [
    "pipe = Pipeline(steps=[\n",
    "    (\"model\", KNeighborsClassifier(\n",
    "    ))\n",
    "])"
   ]
  },
  {
   "cell_type": "code",
   "execution_count": 42,
   "id": "abebd2d5",
   "metadata": {},
   "outputs": [],
   "source": [
    "param_grid = {\n",
    "    \"model__n_neighbors\": [5, 9, 11],\n",
    "    \"model__weights\": ['uniform', 'distance'],\n",
    "    \"model__algorithm\": ['auto', 'brute'],\n",
    "    'model__metric': ['euclidean', 'manhattan', 'minkowski'],\n",
    "    }"
   ]
  },
  {
   "cell_type": "markdown",
   "id": "96629708",
   "metadata": {},
   "source": [
    "Siatka param_grid zawiera zestawy hiperparametrów , które zostaną przetestowane podczas tuningu.\n",
    "\n",
    "model__n_neighbors – liczba sąsiadów branych pod uwagę w algorytmie KNN:\n",
    "\n",
    "- Testowane wartości: 5, 9, 11\n",
    "\n",
    "- Większa liczba sąsiadów może uogólnić model, ale zmniejszyć jego czułość na lokalne struktury danych.\n",
    "\n",
    "model__weights – sposób ważenia głosów sąsiadów:\n",
    "\n",
    "- 'uniform' – każdy sąsiad ma taki sam wpływ (głos),\n",
    "\n",
    "- 'distance' – bliżsi sąsiedzi mają większy wpływ niż dalsi.\n",
    "\n",
    "model__algorithm – algorytm wyszukiwania najbliższych sąsiadów:\n",
    "\n",
    "- 'auto' – automatycznie wybiera najlepszy algorytm w zależności od danych,\n",
    "\n",
    "- 'brute' – przeszukuje wszystkie punkty (wolniejsze, ale czasem dokładniejsze).\n",
    "\n",
    "model__metric – metryka odległości:\n",
    "\n",
    "- 'euclidean' – odległość euklidesowa (domyślna),\n",
    "\n",
    "- 'manhattan' – odległość taksówkowa (L1),\n",
    "\n",
    "- 'minkowski' – uogólniona metryka (z parametrem p, domyślnie p=2 czyli euklidesowa).\n",
    "\n",
    "Ten param_grid służy do przeszukiwania siatki parametrów w celu znalezienia najbardziej optymalnych ustawień dla modelu KNN w danym zadaniu klasyfikacyjnym."
   ]
  },
  {
   "cell_type": "code",
   "execution_count": 43,
   "id": "4313668f",
   "metadata": {},
   "outputs": [],
   "source": [
    "cv = StratifiedKFold(n_splits=5, shuffle=True, random_state=19)\n",
    "\n",
    "f1_custom = make_scorer(f1_score, average=\"weighted\", zero_division=0)\n",
    "\n",
    "search = RandomizedSearchCV(\n",
    "    estimator=pipe,\n",
    "    param_distributions=param_grid,\n",
    "    n_iter=36,           \n",
    "    scoring=f1_custom,   \n",
    "    cv=cv,\n",
    "    n_jobs=-1,\n",
    "    verbose=1,\n",
    "    random_state=19\n",
    ")"
   ]
  },
  {
   "cell_type": "markdown",
   "id": "1855bd81",
   "metadata": {},
   "source": [
    "Ten fragment kodu pozwala na efektywną optymalizację hiperparametrów modelu z użyciem walidacji krzyżowej, losowego przeszukiwania i ważonego F1-score jako miary jakości. Dzięki temu możemy dobrać konfigurację modelu, która najlepiej radzi sobie z klasyfikacją (szczególnie w przypadku niezrównoważonych klas)."
   ]
  },
  {
   "cell_type": "code",
   "execution_count": 44,
   "id": "3e828e65",
   "metadata": {},
   "outputs": [
    {
     "name": "stdout",
     "output_type": "stream",
     "text": [
      "Fitting 5 folds for each of 36 candidates, totalling 180 fits\n",
      "Najlepsze parametry: {'model__weights': 'distance', 'model__n_neighbors': 5, 'model__metric': 'euclidean', 'model__algorithm': 'auto'}\n",
      "Wynik CV (F1): 0.8614064502624383\n"
     ]
    }
   ],
   "source": [
    "search.fit(X_train, y_train)\n",
    "\n",
    "print(\"Najlepsze parametry:\", search.best_params_)\n",
    "print(\"Wynik CV (F1):\", search.best_score_)"
   ]
  },
  {
   "cell_type": "markdown",
   "id": "af508525",
   "metadata": {},
   "source": [
    "- weights='distance' – sąsiedzi bliżsi mają większy wpływ na decyzję klasyfikatora, co zwykle poprawia jakość predykcji.\n",
    "\n",
    "- n_neighbors=5 – optymalna liczba sąsiadów to 5.\n",
    "\n",
    "- metric='euclidean' – najlepszą metryką okazała się standardowa odległość euklidesowa.\n",
    "\n",
    "- algorithm='auto' – model sam wybiera najlepszy algorytm wyszukiwania sąsiadów w zależności od danych.\n",
    "\n",
    "Średnia wartość ważonego F1-score w 5-krotnej walidacji wyniosła ~0.861, co wskazuje na dobrą ogólną jakość modelu przy jednoczesnym uwzględnieniu zarówno precyzji, jak i czułości (szczególnie ważne w niezbalansowanych zbiorach)."
   ]
  },
  {
   "cell_type": "code",
   "execution_count": 45,
   "id": "baa681cc",
   "metadata": {},
   "outputs": [],
   "source": [
    "best_model = search.best_estimator_"
   ]
  },
  {
   "cell_type": "code",
   "execution_count": 46,
   "id": "b0454788",
   "metadata": {},
   "outputs": [],
   "source": [
    "model = best_model\n",
    "model_name = \"KNN_tuned\"\n",
    "results = train_and_evaluate_model(model, model_name, X_train, y_train, X_val, y_val)"
   ]
  },
  {
   "cell_type": "code",
   "execution_count": 47,
   "id": "006b9ad5",
   "metadata": {},
   "outputs": [
    {
     "data": {
      "text/html": [
       "<style type=\"text/css\">\n",
       "#T_30ffe_row0_col0, #T_30ffe_row0_col1, #T_30ffe_row0_col2, #T_30ffe_row0_col3, #T_30ffe_row0_col4, #T_30ffe_row0_col5, #T_30ffe_row0_col6, #T_30ffe_row0_col7 {\n",
       "  background-color: #1f77d8;\n",
       "  font-weight: bold;\n",
       "}\n",
       "</style>\n",
       "<table id=\"T_30ffe\">\n",
       "  <thead>\n",
       "    <tr>\n",
       "      <th id=\"T_30ffe_level0_col0\" class=\"col_heading level0 col0\" >F1-Score_Train</th>\n",
       "      <th id=\"T_30ffe_level0_col1\" class=\"col_heading level0 col1\" >Recall_Train</th>\n",
       "      <th id=\"T_30ffe_level0_col2\" class=\"col_heading level0 col2\" >Precision_Train</th>\n",
       "      <th id=\"T_30ffe_level0_col3\" class=\"col_heading level0 col3\" >Accuracy_Train</th>\n",
       "      <th id=\"T_30ffe_level0_col4\" class=\"col_heading level0 col4\" >F1-Score_Val</th>\n",
       "      <th id=\"T_30ffe_level0_col5\" class=\"col_heading level0 col5\" >Recall_Val</th>\n",
       "      <th id=\"T_30ffe_level0_col6\" class=\"col_heading level0 col6\" >Precision_Val</th>\n",
       "      <th id=\"T_30ffe_level0_col7\" class=\"col_heading level0 col7\" >Accuracy_Val</th>\n",
       "    </tr>\n",
       "  </thead>\n",
       "  <tbody>\n",
       "    <tr>\n",
       "      <td id=\"T_30ffe_row0_col0\" class=\"data row0 col0\" >1.000</td>\n",
       "      <td id=\"T_30ffe_row0_col1\" class=\"data row0 col1\" >1.000</td>\n",
       "      <td id=\"T_30ffe_row0_col2\" class=\"data row0 col2\" >1.000</td>\n",
       "      <td id=\"T_30ffe_row0_col3\" class=\"data row0 col3\" >1.000</td>\n",
       "      <td id=\"T_30ffe_row0_col4\" class=\"data row0 col4\" >0.916</td>\n",
       "      <td id=\"T_30ffe_row0_col5\" class=\"data row0 col5\" >0.935</td>\n",
       "      <td id=\"T_30ffe_row0_col6\" class=\"data row0 col6\" >0.912</td>\n",
       "      <td id=\"T_30ffe_row0_col7\" class=\"data row0 col7\" >0.935</td>\n",
       "    </tr>\n",
       "  </tbody>\n",
       "</table>\n"
      ],
      "text/plain": [
       "<pandas.io.formats.style.Styler at 0x1ca984dc2b0>"
      ]
     },
     "execution_count": 47,
     "metadata": {},
     "output_type": "execute_result"
    }
   ],
   "source": [
    "metrics_dict = results[0]\n",
    "metrics_only = metrics_dict[\"KNN_tuned\"].copy()\n",
    "metrics_only.pop(\"Confusion_Matrix_Val\", None)\n",
    "df_results = pd.DataFrame([metrics_only], index=[\"KNN_tuned\"])\n",
    "df_results.style.apply(\n",
    "    lambda row: ['background-color: #1f77d8; font-weight: bold'] * len(row),\n",
    "    axis=1\n",
    ").format(precision=3).hide(axis=\"index\")"
   ]
  },
  {
   "cell_type": "markdown",
   "id": "9ae16b8d",
   "metadata": {},
   "source": [
    "Tuning modelu zwiększył jego dopasowanie do danych treningowych, aż do perfekcji. Jednak na zbiorze walidacyjnym wyniki się nie poprawiły, co sugeruje, że model zaczął się przeuczać (overfitting). Model po tuningu jest więc bardziej skomplikowany i dokładny na danych treningowych, ale nie generalizuje lepiej na nowych danych. Przed tuningiem model był bardziej „wyważony” — trochę gorsze wyniki na treningu, ale takie same na walidacji. Uzyskane rezultaty nie potwierdzają skuteczności procesu tuningu dlatego do ewaluacji na zbiorze testowym zostanie użyty oryginalny model sprzed tuningu. "
   ]
  },
  {
   "cell_type": "markdown",
   "id": "fc1f2102",
   "metadata": {},
   "source": [
    "## Ewaluacja najlepszego modelu na zbiorze testowym"
   ]
  },
  {
   "cell_type": "code",
   "execution_count": 48,
   "id": "4f42deb3",
   "metadata": {},
   "outputs": [],
   "source": [
    "model = knn\n",
    "model_name = \"KNN\"\n",
    "results = train_and_evaluate_model(model, model_name, X_train, y_train, X_test, y_test)"
   ]
  },
  {
   "cell_type": "code",
   "execution_count": 49,
   "id": "57f55641",
   "metadata": {},
   "outputs": [
    {
     "data": {
      "text/html": [
       "<style type=\"text/css\">\n",
       "#T_4efae_row0_col0, #T_4efae_row0_col1, #T_4efae_row0_col2, #T_4efae_row0_col3, #T_4efae_row0_col4, #T_4efae_row0_col5, #T_4efae_row0_col6, #T_4efae_row0_col7 {\n",
       "  background-color: #1f77d8;\n",
       "  font-weight: bold;\n",
       "}\n",
       "</style>\n",
       "<table id=\"T_4efae\">\n",
       "  <thead>\n",
       "    <tr>\n",
       "      <th id=\"T_4efae_level0_col0\" class=\"col_heading level0 col0\" >F1-Score_Train</th>\n",
       "      <th id=\"T_4efae_level0_col1\" class=\"col_heading level0 col1\" >Recall_Train</th>\n",
       "      <th id=\"T_4efae_level0_col2\" class=\"col_heading level0 col2\" >Precision_Train</th>\n",
       "      <th id=\"T_4efae_level0_col3\" class=\"col_heading level0 col3\" >Accuracy_Train</th>\n",
       "      <th id=\"T_4efae_level0_col4\" class=\"col_heading level0 col4\" >F1-Score_Test</th>\n",
       "      <th id=\"T_4efae_level0_col5\" class=\"col_heading level0 col5\" >Recall_Test</th>\n",
       "      <th id=\"T_4efae_level0_col6\" class=\"col_heading level0 col6\" >Precision_Test</th>\n",
       "      <th id=\"T_4efae_level0_col7\" class=\"col_heading level0 col7\" >Accuracy_Test</th>\n",
       "    </tr>\n",
       "  </thead>\n",
       "  <tbody>\n",
       "    <tr>\n",
       "      <td id=\"T_4efae_row0_col0\" class=\"data row0 col0\" >0.895</td>\n",
       "      <td id=\"T_4efae_row0_col1\" class=\"data row0 col1\" >0.909</td>\n",
       "      <td id=\"T_4efae_row0_col2\" class=\"data row0 col2\" >0.885</td>\n",
       "      <td id=\"T_4efae_row0_col3\" class=\"data row0 col3\" >0.909</td>\n",
       "      <td id=\"T_4efae_row0_col4\" class=\"data row0 col4\" >0.892</td>\n",
       "      <td id=\"T_4efae_row0_col5\" class=\"data row0 col5\" >0.902</td>\n",
       "      <td id=\"T_4efae_row0_col6\" class=\"data row0 col6\" >0.894</td>\n",
       "      <td id=\"T_4efae_row0_col7\" class=\"data row0 col7\" >0.902</td>\n",
       "    </tr>\n",
       "  </tbody>\n",
       "</table>\n"
      ],
      "text/plain": [
       "<pandas.io.formats.style.Styler at 0x1ca985192d0>"
      ]
     },
     "execution_count": 49,
     "metadata": {},
     "output_type": "execute_result"
    }
   ],
   "source": [
    "metrics_dict = results[0]\n",
    "metrics_only = metrics_dict[\"KNN\"].copy()\n",
    "metrics_only.pop(\"Confusion_Matrix_Val\", None)\n",
    "metrics_only_renamed = {\n",
    "    key.replace('_Val', '_Test'): value\n",
    "    for key, value in metrics_only.items()\n",
    "}\n",
    "df_results = pd.DataFrame([metrics_only_renamed], index=[\"KNN\"])\n",
    "df_results.style.apply(\n",
    "    lambda row: ['background-color: #1f77d8; font-weight: bold'] * len(row),\n",
    "    axis=1\n",
    ").format(precision=3).hide(axis=\"index\")"
   ]
  },
  {
   "cell_type": "markdown",
   "id": "8369145b",
   "metadata": {},
   "source": [
    "Wyniki na zbiorze testowym są bardzo zbliżone do tych na treningu, co świadczy o tym, że model generalizuje całkiem dobrze — różnice między tymi zbiorami są minimalne, więc model nie przeucza się zbytnio. F1-Score i Accuracy utrzymują się na solidnym poziomie około 0.89–0.90. Dodatkowo, podobne wartości Precision i Recall na zbiorze testowym i treningowym pokazują, że model jest spójny zarówno pod kątem wykrywania pozytywnych przypadków (Recall), jak i poprawności predykcji pozytywnych (Precision)."
   ]
  },
  {
   "cell_type": "markdown",
   "id": "5ba8f45d",
   "metadata": {},
   "source": [
    "## Macierz pomyłek – zbiór testowy"
   ]
  },
  {
   "cell_type": "code",
   "execution_count": null,
   "id": "2c1307e4",
   "metadata": {},
   "outputs": [
    {
     "data": {
      "image/png": "[encoded data removed]",
      "text/plain": [
       "<Figure size 640x480 with 2 Axes>"
      ]
     },
     "metadata": {},
     "output_type": "display_data"
    }
   ],
   "source": [
    "cm = results[0][\"KNN\"][\"Confusion_Matrix_Val\"]\n",
    "\n",
    "disp = ConfusionMatrixDisplay(confusion_matrix=cm)\n",
    "fig, ax = plt.subplots()\n",
    "disp.plot(cmap=\"Reds\", ax=ax)\n",
    "ax.grid(False)\n",
    "plt.title(\"Finalny model KNN - zbiór testowy\")\n",
    "plt.show()"
   ]
  },
  {
   "cell_type": "markdown",
   "id": "63c56015",
   "metadata": {},
   "source": [
    "- Klasa 0 jest bardzo dobrze rozpoznawana — 79 przykładów zostało poprawnie zaklasyfikowanych, tylko 1 został pomylony z klasą 2.\n",
    "\n",
    "- Klasa 1 została sklasyfikowana błędnie — jedyny przykład tej klasy zostały zaklasyfikowane jako klasa 3.\n",
    "\n",
    "- Klasa 2 jest rozproszona: 2 przykłady zostały błędnie sklasyfikowane jako 0, tylko 1 poprawnie, 1 przykład jako klasa 3.\n",
    "\n",
    "- Klasa 3 także słabo rozpoznawana — 2 przykłady pomylone jako 0, 1 poprawnie jako 3.\n",
    "\n",
    "- Klasa 4 jest rozproszona: 1 przykład pomylony jako 0, 1 jako 1, 2 poprawnie jako 4.\n",
    "\n",
    "Model świetnie radzi sobie z klasą 0 (duża liczba poprawnych klasyfikacji, mało błędów). Największe problemy są z klasą 1, która w ogóle nie została poprawnie rozpoznana — jedyny przykład należący do tej klasy został sklasyfikowany jako klasa 3. Klasy 2, 3 i 4 są klasyfikowane mniej dokładnie, model często myli je ze sobą lub z klasą 0. Może to oznaczać, że model ma problem z rozróżnianiem klas podobnych lub o mniejszej liczbie próbek."
   ]
  },
  {
   "cell_type": "markdown",
   "id": "51bb8dc0",
   "metadata": {},
   "source": [
    "## Podsumowanie i wnioski"
   ]
  },
  {
   "cell_type": "markdown",
   "id": "9cc3b541",
   "metadata": {},
   "source": [
    "Celem projektu była budowa modelu predykcyjnego, który na podstawie danych demograficznych oraz wyników badań laboratoryjnych będzie klasyfikował stan zdrowia pacjentów w kontekście chorób wątroby. Kluczowym zadaniem jest przypisanie pacjenta do jednej z pięciu klas. Przeprowadzono imputację braków danych, oraz balansowanie klas. Dokonano wyboru cech, które najlepiej różnicują klasy chorób. Wytrenowano wiele modeli przy kilku rodzajach oversamplingu i wybrano najlepszy z nich do tuningu hiperparametrów, który nie przyniósł jednak poprawy metryk. Z tego powodu naszym najlepszym modelem okazał się model k-Nearest Neighbours trenowany na oryginalnych, niezbalansowanych danych. Wyniki metryk uzyskanych po jego wytrenowaniu pozwalają myśleć o wdrożeniu go w prawdziwych problemach, lecz należy jego klasyfikację brać z pewną dozą ostrożności."
   ]
  }
 ],
 "metadata": {
  "kernelspec": {
   "display_name": "Python 3",
   "language": "python",
   "name": "python3"
  },
  "language_info": {
   "codemirror_mode": {
    "name": "ipython",
    "version": 3
   },
   "file_extension": ".py",
   "mimetype": "text/x-python",
   "name": "python",
   "nbconvert_exporter": "python",
   "pygments_lexer": "ipython3",
   "version": "3.10.11"
  }
 },
 "nbformat": 4,
 "nbformat_minor": 5
}
